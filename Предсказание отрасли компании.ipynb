{
 "cells": [
  {
   "cell_type": "markdown",
   "metadata": {},
   "source": [
    "# Предсказание отрасли компании"
   ]
  },
  {
   "cell_type": "markdown",
   "metadata": {},
   "source": [
    "На основе данных о транзакциях между 2 компаниями, для пропущенных значений отрасли компании необходимо создать предиктивную модель, предсказывающую отрасль компании\n"
   ]
  },
  {
   "cell_type": "markdown",
   "metadata": {},
   "source": [
    "Загрузка необходимых библиотек"
   ]
  },
  {
   "cell_type": "code",
   "execution_count": 1,
   "metadata": {},
   "outputs": [],
   "source": [
    "import numpy as np\n",
    "import pandas as pd\n",
    "import matplotlib.pyplot as plt\n",
    "%matplotlib inline\n",
    "import seaborn as sns\n",
    "from sklearn.model_selection import train_test_split\n",
    "from sklearn.model_selection import GridSearchCV\n",
    "from sklearn.metrics import accuracy_score\n",
    "from sklearn.linear_model import LogisticRegression\n",
    "from sklearn.tree import DecisionTreeClassifier\n",
    "from sklearn.ensemble import RandomForestClassifier\n",
    "from sklearn.neighbors import KNeighborsClassifier\n",
    "import warnings\n",
    "warnings.simplefilter('ignore')\n",
    "from sklearn.preprocessing import StandardScaler"
   ]
  },
  {
   "cell_type": "markdown",
   "metadata": {},
   "source": [
    "Загрузка 2 датасетов:\n",
    "1. pays- датасет с суммой, частотой и неделей совершения платежей между 2 компаниями, представленными в виде обезличенного ИНН.\n",
    "2. innInfo- датасет с информацией (такой как отрасль `okved2` и регион) по каждой отдельной компании."
   ]
  },
  {
   "cell_type": "code",
   "execution_count": 2,
   "metadata": {},
   "outputs": [],
   "source": [
    "innInfo = pd.read_csv('https://www.dropbox.com/s/5aztgcxa5euubn4/inn_info_public.csv?dl=1')\n",
    "pays = pd.read_csv('https://www.dropbox.com/s/7if97r10dc2i441/pays.csv?dl=1')"
   ]
  },
  {
   "cell_type": "markdown",
   "metadata": {},
   "source": [
    "Посмотрим на первые 5 столбцов каждого датасета"
   ]
  },
  {
   "cell_type": "code",
   "execution_count": 3,
   "metadata": {},
   "outputs": [
    {
     "data": {
      "text/html": [
       "<div>\n",
       "<table border=\"1\" class=\"dataframe\">\n",
       "  <thead>\n",
       "    <tr style=\"text-align: right;\">\n",
       "      <th></th>\n",
       "      <th>hash_inn</th>\n",
       "      <th>okved2</th>\n",
       "      <th>region</th>\n",
       "      <th>is_public</th>\n",
       "    </tr>\n",
       "  </thead>\n",
       "  <tbody>\n",
       "    <tr>\n",
       "      <th>0</th>\n",
       "      <td>61058</td>\n",
       "      <td>34</td>\n",
       "      <td>86</td>\n",
       "      <td>True</td>\n",
       "    </tr>\n",
       "    <tr>\n",
       "      <th>1</th>\n",
       "      <td>8311</td>\n",
       "      <td>18</td>\n",
       "      <td>86</td>\n",
       "      <td>True</td>\n",
       "    </tr>\n",
       "    <tr>\n",
       "      <th>2</th>\n",
       "      <td>130273</td>\n",
       "      <td>-1</td>\n",
       "      <td>86</td>\n",
       "      <td>False</td>\n",
       "    </tr>\n",
       "    <tr>\n",
       "      <th>3</th>\n",
       "      <td>64081</td>\n",
       "      <td>43</td>\n",
       "      <td>86</td>\n",
       "      <td>True</td>\n",
       "    </tr>\n",
       "    <tr>\n",
       "      <th>4</th>\n",
       "      <td>218005</td>\n",
       "      <td>12</td>\n",
       "      <td>86</td>\n",
       "      <td>True</td>\n",
       "    </tr>\n",
       "  </tbody>\n",
       "</table>\n",
       "</div>"
      ],
      "text/plain": [
       "   hash_inn  okved2  region is_public\n",
       "0     61058      34      86      True\n",
       "1      8311      18      86      True\n",
       "2    130273      -1      86     False\n",
       "3     64081      43      86      True\n",
       "4    218005      12      86      True"
      ]
     },
     "execution_count": 3,
     "metadata": {},
     "output_type": "execute_result"
    }
   ],
   "source": [
    "innInfo.head()"
   ]
  },
  {
   "cell_type": "code",
   "execution_count": 4,
   "metadata": {},
   "outputs": [
    {
     "data": {
      "text/html": [
       "<div>\n",
       "<table border=\"1\" class=\"dataframe\">\n",
       "  <thead>\n",
       "    <tr style=\"text-align: right;\">\n",
       "      <th></th>\n",
       "      <th>hash_inn_kt</th>\n",
       "      <th>hash_inn_dt</th>\n",
       "      <th>week</th>\n",
       "      <th>count</th>\n",
       "      <th>sum</th>\n",
       "    </tr>\n",
       "  </thead>\n",
       "  <tbody>\n",
       "    <tr>\n",
       "      <th>0</th>\n",
       "      <td>0</td>\n",
       "      <td>0</td>\n",
       "      <td>1</td>\n",
       "      <td>4</td>\n",
       "      <td>38399.6</td>\n",
       "    </tr>\n",
       "    <tr>\n",
       "      <th>1</th>\n",
       "      <td>0</td>\n",
       "      <td>0</td>\n",
       "      <td>5</td>\n",
       "      <td>2</td>\n",
       "      <td>399.6</td>\n",
       "    </tr>\n",
       "    <tr>\n",
       "      <th>2</th>\n",
       "      <td>0</td>\n",
       "      <td>0</td>\n",
       "      <td>7</td>\n",
       "      <td>2</td>\n",
       "      <td>79.6</td>\n",
       "    </tr>\n",
       "    <tr>\n",
       "      <th>3</th>\n",
       "      <td>0</td>\n",
       "      <td>0</td>\n",
       "      <td>9</td>\n",
       "      <td>2</td>\n",
       "      <td>239.6</td>\n",
       "    </tr>\n",
       "    <tr>\n",
       "      <th>4</th>\n",
       "      <td>0</td>\n",
       "      <td>0</td>\n",
       "      <td>12</td>\n",
       "      <td>2</td>\n",
       "      <td>79.6</td>\n",
       "    </tr>\n",
       "  </tbody>\n",
       "</table>\n",
       "</div>"
      ],
      "text/plain": [
       "   hash_inn_kt  hash_inn_dt  week  count      sum\n",
       "0            0            0     1      4  38399.6\n",
       "1            0            0     5      2    399.6\n",
       "2            0            0     7      2     79.6\n",
       "3            0            0     9      2    239.6\n",
       "4            0            0    12      2     79.6"
      ]
     },
     "execution_count": 4,
     "metadata": {},
     "output_type": "execute_result"
    }
   ],
   "source": [
    "pays.head()"
   ]
  },
  {
   "cell_type": "markdown",
   "metadata": {},
   "source": [
    "Размер датасетов `innInfo` и `pays` составляет (240069, 4) и (5429025, 5) соответственно. В датасете `innInfo` содержится информация о уникальных ИНН, отрасли компании и регионе. Все переменные являются категориальными (qualitative). В датасете `pays` содержится информция о повторяющихся ИНН, неделе совершения платежа, количестве платежей в неделю и сумме платежей в неделю. Переменные `week`, `count` и `sum` являются количественными (quantitative). Зависимой переменной, которую необходимо предсказать является `okved2`."
   ]
  },
  {
   "cell_type": "markdown",
   "metadata": {},
   "source": [
    "## Предварительная обработка данных"
   ]
  },
  {
   "cell_type": "markdown",
   "metadata": {},
   "source": [
    "Для обучения модели необходимо объединить данные из датасетов `innInfo` и `pays` в единый датасет. Переменные `hash_inn`, `hash_inn_kt`, `hash_inn_dt` и `region` являются категориальными. Поскольку уникальных значений ИНН составляет 240069, а для региона 80, использование OheHotEncoding для представления каждого значения в виде dummy variables увеличит количество столбцов в едином датасете на 240149. Поэтому необходимо сделать предобработку данных."
   ]
  },
  {
   "cell_type": "markdown",
   "metadata": {},
   "source": [
    "Последний столбец `is_public` датасета `innInfo` содержит метки для разбиения на тренировочную и тестовую выборки. Аналогичная информация содержится в переменной `okved2`, где меткой для тестовой выборки служит значение `-1`. Удалим столбец `is_public`, содержащий избыточную информацию, а также строчки с пропущенными значениями `sum`"
   ]
  },
  {
   "cell_type": "code",
   "execution_count": 5,
   "metadata": {},
   "outputs": [],
   "source": [
    "innInfo.drop('is_public', axis=1, inplace=True)\n",
    "pays.dropna(inplace=True)"
   ]
  },
  {
   "cell_type": "markdown",
   "metadata": {},
   "source": [
    "Применим к переменной `pays` линейное преобразование $250pays+100$ для получения неотрицательных целых значений. Десятые доли необходимы для избежания нулевых значений"
   ]
  },
  {
   "cell_type": "code",
   "execution_count": 6,
   "metadata": {},
   "outputs": [],
   "source": [
    "pays['sum'] = pays['sum']*250 + 100"
   ]
  },
  {
   "cell_type": "markdown",
   "metadata": {},
   "source": [
    "### Агрегирование данных по платежам"
   ]
  },
  {
   "cell_type": "markdown",
   "metadata": {},
   "source": [
    "В датасете `pays` переменная `week`- неделя совершения платежа, `count`- количество платежей в неделю, `sum`- объем платежей в неделю. Трансформируем вышеуказанные переменные:\n",
    "1.  weeksAmount- число недель в которых проводились платежи\n",
    "2.  averageCount- среднее число платежей за весь период\n",
    "3. averageSum- средняя величина транзакции за весь период"
   ]
  },
  {
   "cell_type": "code",
   "execution_count": 7,
   "metadata": {},
   "outputs": [
    {
     "data": {
      "text/html": [
       "<div>\n",
       "<table border=\"1\" class=\"dataframe\">\n",
       "  <thead>\n",
       "    <tr style=\"text-align: right;\">\n",
       "      <th></th>\n",
       "      <th>hash_inn_kt</th>\n",
       "      <th>hash_inn_dt</th>\n",
       "      <th>averageSum</th>\n",
       "      <th>weeksAmount</th>\n",
       "      <th>averageCount</th>\n",
       "    </tr>\n",
       "  </thead>\n",
       "  <tbody>\n",
       "    <tr>\n",
       "      <th>0</th>\n",
       "      <td>0</td>\n",
       "      <td>0</td>\n",
       "      <td>273024.000000</td>\n",
       "      <td>10</td>\n",
       "      <td>2.600000</td>\n",
       "    </tr>\n",
       "    <tr>\n",
       "      <th>1</th>\n",
       "      <td>0</td>\n",
       "      <td>7212</td>\n",
       "      <td>62783.964286</td>\n",
       "      <td>7</td>\n",
       "      <td>2.285714</td>\n",
       "    </tr>\n",
       "    <tr>\n",
       "      <th>2</th>\n",
       "      <td>0</td>\n",
       "      <td>11703</td>\n",
       "      <td>365800.000000</td>\n",
       "      <td>1</td>\n",
       "      <td>1.000000</td>\n",
       "    </tr>\n",
       "    <tr>\n",
       "      <th>3</th>\n",
       "      <td>0</td>\n",
       "      <td>25395</td>\n",
       "      <td>8373.333333</td>\n",
       "      <td>1</td>\n",
       "      <td>3.000000</td>\n",
       "    </tr>\n",
       "    <tr>\n",
       "      <th>4</th>\n",
       "      <td>0</td>\n",
       "      <td>34686</td>\n",
       "      <td>91476.000000</td>\n",
       "      <td>2</td>\n",
       "      <td>2.500000</td>\n",
       "    </tr>\n",
       "  </tbody>\n",
       "</table>\n",
       "</div>"
      ],
      "text/plain": [
       "   hash_inn_kt  hash_inn_dt     averageSum  weeksAmount  averageCount\n",
       "0            0            0  273024.000000           10      2.600000\n",
       "1            0         7212   62783.964286            7      2.285714\n",
       "2            0        11703  365800.000000            1      1.000000\n",
       "3            0        25395    8373.333333            1      3.000000\n",
       "4            0        34686   91476.000000            2      2.500000"
      ]
     },
     "execution_count": 7,
     "metadata": {},
     "output_type": "execute_result"
    }
   ],
   "source": [
    "pays['sum'] = pays['sum']/pays['count']\n",
    "\n",
    "paysAggregated = pays.groupby(by=(\"hash_inn_kt\", \"hash_inn_dt\")).agg({\n",
    "    'week': np.size, 'count': np.mean, 'sum': np.mean})\n",
    "paysAggregated.reset_index(inplace=True)\n",
    "\n",
    "paysAggregated.rename(columns={'week': 'weeksAmount', 'count': 'averageCount', 'sum': 'averageSum'},\n",
    "            inplace=True)\n",
    "\n",
    "paysAggregated.head()"
   ]
  },
  {
   "cell_type": "markdown",
   "metadata": {},
   "source": [
    "### Агрегирование данные по исходящим платежам"
   ]
  },
  {
   "cell_type": "markdown",
   "metadata": {},
   "source": [
    "Цель преобразования- избавиться от категориальных переменных ИНН, отсортировав датасет по возрастанию значений ИНН. Таким образом, итоговый датасет будет состоять из 240069 строк как и `innInfo`, и, упорядочив датасет `innInfo` по полю `hash_inn`, i-ая строка будет совпадать в обоих датасетах"
   ]
  },
  {
   "cell_type": "code",
   "execution_count": 8,
   "metadata": {},
   "outputs": [
    {
     "data": {
      "text/html": [
       "<div>\n",
       "<table border=\"1\" class=\"dataframe\">\n",
       "  <thead>\n",
       "    <tr style=\"text-align: right;\">\n",
       "      <th></th>\n",
       "      <th>innCountOut</th>\n",
       "      <th>regionsCountOut</th>\n",
       "      <th>averageCountOut</th>\n",
       "      <th>weeksAmountOut</th>\n",
       "      <th>averageSumOut</th>\n",
       "    </tr>\n",
       "  </thead>\n",
       "  <tbody>\n",
       "    <tr>\n",
       "      <th>0</th>\n",
       "      <td>34.0</td>\n",
       "      <td>15.0</td>\n",
       "      <td>1.919024</td>\n",
       "      <td>2.500000</td>\n",
       "      <td>167699.451718</td>\n",
       "    </tr>\n",
       "    <tr>\n",
       "      <th>1</th>\n",
       "      <td>1.0</td>\n",
       "      <td>1.0</td>\n",
       "      <td>2.000000</td>\n",
       "      <td>7.000000</td>\n",
       "      <td>2514.285714</td>\n",
       "    </tr>\n",
       "    <tr>\n",
       "      <th>2</th>\n",
       "      <td>3.0</td>\n",
       "      <td>3.0</td>\n",
       "      <td>1.666667</td>\n",
       "      <td>1.000000</td>\n",
       "      <td>1815.833333</td>\n",
       "    </tr>\n",
       "    <tr>\n",
       "      <th>3</th>\n",
       "      <td>1.0</td>\n",
       "      <td>1.0</td>\n",
       "      <td>1.000000</td>\n",
       "      <td>1.000000</td>\n",
       "      <td>3587.000000</td>\n",
       "    </tr>\n",
       "    <tr>\n",
       "      <th>4</th>\n",
       "      <td>6.0</td>\n",
       "      <td>1.0</td>\n",
       "      <td>1.033333</td>\n",
       "      <td>2.833333</td>\n",
       "      <td>232.250000</td>\n",
       "    </tr>\n",
       "  </tbody>\n",
       "</table>\n",
       "</div>"
      ],
      "text/plain": [
       "   innCountOut  regionsCountOut  averageCountOut  weeksAmountOut  \\\n",
       "0         34.0             15.0         1.919024        2.500000   \n",
       "1          1.0              1.0         2.000000        7.000000   \n",
       "2          3.0              3.0         1.666667        1.000000   \n",
       "3          1.0              1.0         1.000000        1.000000   \n",
       "4          6.0              1.0         1.033333        2.833333   \n",
       "\n",
       "   averageSumOut  \n",
       "0  167699.451718  \n",
       "1    2514.285714  \n",
       "2    1815.833333  \n",
       "3    3587.000000  \n",
       "4     232.250000  "
      ]
     },
     "execution_count": 8,
     "metadata": {},
     "output_type": "execute_result"
    }
   ],
   "source": [
    "Out = pd.merge(paysAggregated, innInfo[['hash_inn', 'region']], left_on='hash_inn_dt', right_on='hash_inn',\n",
    "              sort=True)\n",
    "Out.drop('hash_inn', axis=1, inplace=True)\n",
    "\n",
    "Out = Out.groupby(by=('hash_inn_kt'), sort=False).agg({\n",
    "    'weeksAmount': 'mean',\n",
    "    'averageCount': 'mean',\n",
    "    'averageSum': 'mean',\n",
    "    'hash_inn_dt': 'size',\n",
    "    'region': lambda x: x.nunique()\n",
    "})\n",
    "Out.reset_index(inplace=True)\n",
    "\n",
    "Out.rename(columns={'hash_inn_kt': 'hash_inn',\n",
    "                    'weeksAmount': 'weeksAmountOut',\n",
    "                    'averageCount': 'averageCountOut',\n",
    "                    'averageSum': 'averageSumOut',\n",
    "                    'hash_inn_dt': 'innCountOut',\n",
    "                    'region': 'regionsCountOut',\n",
    "                    }, inplace=True)\n",
    "\n",
    "Out = pd.merge(Out, innInfo[['hash_inn']], on='hash_inn', how='outer', sort=True)\n",
    "Out.fillna(0 ,inplace=True)\n",
    "Out.drop('hash_inn', axis=1, inplace=True)\n",
    "\n",
    "Out.head()"
   ]
  },
  {
   "cell_type": "markdown",
   "metadata": {},
   "source": [
    "`weeksAmout`, `averageCount`, `averageSum` были агрегированы с точность до `hash_inn_kt`  \n",
    "`innCount` — число различных инн, которым был перечислен платеж для каждого `hash_inn_kt`  \n",
    "`regionsCount` — число различных регионов, в которые были осуществлены платежи для каждого `hash_inn_kt`"
   ]
  },
  {
   "cell_type": "markdown",
   "metadata": {},
   "source": [
    "### Агрегирование данные по входящим платежам"
   ]
  },
  {
   "cell_type": "code",
   "execution_count": 9,
   "metadata": {},
   "outputs": [
    {
     "data": {
      "text/html": [
       "<div>\n",
       "<table border=\"1\" class=\"dataframe\">\n",
       "  <thead>\n",
       "    <tr style=\"text-align: right;\">\n",
       "      <th></th>\n",
       "      <th>innCountIn</th>\n",
       "      <th>averageCountIn</th>\n",
       "      <th>weeksAmountIn</th>\n",
       "      <th>averageSumIn</th>\n",
       "      <th>regionsCountIn</th>\n",
       "      <th>okved2</th>\n",
       "    </tr>\n",
       "  </thead>\n",
       "  <tbody>\n",
       "    <tr>\n",
       "      <th>0</th>\n",
       "      <td>144.0</td>\n",
       "      <td>2.09405</td>\n",
       "      <td>3.104167</td>\n",
       "      <td>28074.012083</td>\n",
       "      <td>21.0</td>\n",
       "      <td>-1</td>\n",
       "    </tr>\n",
       "    <tr>\n",
       "      <th>1</th>\n",
       "      <td>0.0</td>\n",
       "      <td>0.00000</td>\n",
       "      <td>0.000000</td>\n",
       "      <td>0.000000</td>\n",
       "      <td>0.0</td>\n",
       "      <td>62</td>\n",
       "    </tr>\n",
       "    <tr>\n",
       "      <th>2</th>\n",
       "      <td>1.0</td>\n",
       "      <td>2.90000</td>\n",
       "      <td>10.000000</td>\n",
       "      <td>3976.810000</td>\n",
       "      <td>1.0</td>\n",
       "      <td>-1</td>\n",
       "    </tr>\n",
       "    <tr>\n",
       "      <th>3</th>\n",
       "      <td>0.0</td>\n",
       "      <td>0.00000</td>\n",
       "      <td>0.000000</td>\n",
       "      <td>0.000000</td>\n",
       "      <td>0.0</td>\n",
       "      <td>29</td>\n",
       "    </tr>\n",
       "    <tr>\n",
       "      <th>4</th>\n",
       "      <td>0.0</td>\n",
       "      <td>0.00000</td>\n",
       "      <td>0.000000</td>\n",
       "      <td>0.000000</td>\n",
       "      <td>0.0</td>\n",
       "      <td>-1</td>\n",
       "    </tr>\n",
       "  </tbody>\n",
       "</table>\n",
       "</div>"
      ],
      "text/plain": [
       "   innCountIn  averageCountIn  weeksAmountIn  averageSumIn  regionsCountIn  \\\n",
       "0       144.0         2.09405       3.104167  28074.012083            21.0   \n",
       "1         0.0         0.00000       0.000000      0.000000             0.0   \n",
       "2         1.0         2.90000      10.000000   3976.810000             1.0   \n",
       "3         0.0         0.00000       0.000000      0.000000             0.0   \n",
       "4         0.0         0.00000       0.000000      0.000000             0.0   \n",
       "\n",
       "   okved2  \n",
       "0      -1  \n",
       "1      62  \n",
       "2      -1  \n",
       "3      29  \n",
       "4      -1  "
      ]
     },
     "execution_count": 9,
     "metadata": {},
     "output_type": "execute_result"
    }
   ],
   "source": [
    "In = pd.merge(paysAggregated, innInfo[['hash_inn', 'region']], left_on='hash_inn_kt', right_on='hash_inn',\n",
    "              sort=True)\n",
    "In.drop('hash_inn', axis=1, inplace=True)\n",
    "\n",
    "In = In.groupby(by=('hash_inn_dt'), sort=False).agg({\n",
    "    'weeksAmount': 'mean',\n",
    "    'averageCount': 'mean',\n",
    "    'averageSum': 'mean',\n",
    "    'hash_inn_kt': 'size',\n",
    "    'region': lambda x: x.nunique()\n",
    "})\n",
    "In.reset_index(inplace=True)\n",
    "\n",
    "In.rename(columns={'hash_inn_dt': 'hash_inn',\n",
    "                    'weeksAmount': 'weeksAmountIn',\n",
    "                    'averageCount': 'averageCountIn',\n",
    "                    'averageSum': 'averageSumIn',\n",
    "                    'hash_inn_kt': 'innCountIn',\n",
    "                    'region': 'regionsCountIn',\n",
    "                    }, inplace=True)\n",
    "\n",
    "In = pd.merge(In, innInfo[['hash_inn', 'okved2']], on='hash_inn', how='outer', sort=True)\n",
    "In.fillna(0 ,inplace=True)\n",
    "In.drop('hash_inn', axis=1, inplace=True)\n",
    "\n",
    "In.head()"
   ]
  },
  {
   "cell_type": "markdown",
   "metadata": {},
   "source": [
    "### Дополнительные сведения"
   ]
  },
  {
   "cell_type": "markdown",
   "metadata": {},
   "source": [
    "О платежах между совпадаюшими инн (`hash_inn_kt` = `hash_inn_dt`). Добавим бинарный столбец `selfPayment`, принимающий значение 1 для случаев, когда платеж совершен внутри организации"
   ]
  },
  {
   "cell_type": "code",
   "execution_count": 10,
   "metadata": {},
   "outputs": [],
   "source": [
    "Inner = paysAggregated[paysAggregated['hash_inn_kt'] == paysAggregated['hash_inn_dt']]\n",
    "Inner['selfPayment'] = np.ones(Inner.shape[0])\n",
    "Inner.drop(['hash_inn_dt', 'weeksAmount', 'averageCount', 'averageSum'], axis=1, inplace=True)\n",
    "Inner.rename(columns={'hash_inn_kt': 'hash_inn'}, inplace=True)\n",
    "Inner = pd.merge(Inner, innInfo[['hash_inn']], on='hash_inn', how='outer', sort=True)\n",
    "Inner.fillna(0 ,inplace=True)\n",
    "Inner.drop('hash_inn', axis=1, inplace=True)"
   ]
  },
  {
   "cell_type": "markdown",
   "metadata": {},
   "source": [
    "О платежах с нулевыми суммами (взаимозачет). Добавим бинарные столбцы `zeroSumOut` и `zeroSumIn`, принимающий значение 1 для случаев, когда платеж совершен внутри организации"
   ]
  },
  {
   "cell_type": "code",
   "execution_count": 11,
   "metadata": {},
   "outputs": [],
   "source": [
    "zeroSum = pays[pays['sum'] == 0]\n",
    "\n",
    "zeroSumOut = zeroSum.groupby(by='hash_inn_kt').agg({'hash_inn_kt':lambda x:x.nunique()})\n",
    "zeroSumOut.rename(columns={'hash_inn_kt': 'zeroSumOut'}, inplace=True)\n",
    "zeroSumOut.reset_index(inplace=True)\n",
    "zeroSumOut.rename(columns={'hash_inn_kt': 'hash_inn'}, inplace=True)\n",
    "\n",
    "zeroSumIn = zeroSum.groupby(by='hash_inn_dt').agg({'hash_inn_dt':lambda x:x.nunique()})\n",
    "zeroSumIn.rename(columns={'hash_inn_dt': 'zeroSumIn'}, inplace=True)\n",
    "zeroSumIn.reset_index(inplace=True)\n",
    "zeroSumIn.rename(columns={'hash_inn_dt': 'hash_inn'}, inplace=True)\n",
    "\n",
    "zeroSumOut = pd.merge(zeroSumOut, innInfo[['hash_inn']], on='hash_inn', how='outer', sort=True)\n",
    "zeroSumOut.fillna(0 ,inplace=True)\n",
    "zeroSumOut.drop('hash_inn', axis=1, inplace=True)\n",
    "\n",
    "zeroSumIn = pd.merge(zeroSumIn, innInfo[['hash_inn']], on='hash_inn', how='outer', sort=True)\n",
    "zeroSumIn.fillna(0 ,inplace=True)\n",
    "zeroSumIn.drop('hash_inn', axis=1, inplace=True)"
   ]
  },
  {
   "cell_type": "markdown",
   "metadata": {},
   "source": [
    "Объединение в единый датасет"
   ]
  },
  {
   "cell_type": "code",
   "execution_count": 12,
   "metadata": {},
   "outputs": [],
   "source": [
    "df = pd.concat([Out, In, Inner, zeroSumOut, zeroSumIn], axis=1)"
   ]
  },
  {
   "cell_type": "code",
   "execution_count": 13,
   "metadata": {},
   "outputs": [
    {
     "data": {
      "text/html": [
       "<div>\n",
       "<table border=\"1\" class=\"dataframe\">\n",
       "  <thead>\n",
       "    <tr style=\"text-align: right;\">\n",
       "      <th></th>\n",
       "      <th>innCountOut</th>\n",
       "      <th>regionsCountOut</th>\n",
       "      <th>averageCountOut</th>\n",
       "      <th>weeksAmountOut</th>\n",
       "      <th>averageSumOut</th>\n",
       "      <th>innCountIn</th>\n",
       "      <th>averageCountIn</th>\n",
       "      <th>weeksAmountIn</th>\n",
       "      <th>averageSumIn</th>\n",
       "      <th>regionsCountIn</th>\n",
       "      <th>okved2</th>\n",
       "      <th>selfPayment</th>\n",
       "      <th>zeroSumOut</th>\n",
       "      <th>zeroSumIn</th>\n",
       "    </tr>\n",
       "  </thead>\n",
       "  <tbody>\n",
       "    <tr>\n",
       "      <th>0</th>\n",
       "      <td>34.0</td>\n",
       "      <td>15.0</td>\n",
       "      <td>1.919024</td>\n",
       "      <td>2.500000</td>\n",
       "      <td>167699.451718</td>\n",
       "      <td>144.0</td>\n",
       "      <td>2.09405</td>\n",
       "      <td>3.104167</td>\n",
       "      <td>28074.012083</td>\n",
       "      <td>21.0</td>\n",
       "      <td>-1</td>\n",
       "      <td>1.0</td>\n",
       "      <td>0.0</td>\n",
       "      <td>0.0</td>\n",
       "    </tr>\n",
       "    <tr>\n",
       "      <th>1</th>\n",
       "      <td>1.0</td>\n",
       "      <td>1.0</td>\n",
       "      <td>2.000000</td>\n",
       "      <td>7.000000</td>\n",
       "      <td>2514.285714</td>\n",
       "      <td>0.0</td>\n",
       "      <td>0.00000</td>\n",
       "      <td>0.000000</td>\n",
       "      <td>0.000000</td>\n",
       "      <td>0.0</td>\n",
       "      <td>62</td>\n",
       "      <td>0.0</td>\n",
       "      <td>0.0</td>\n",
       "      <td>0.0</td>\n",
       "    </tr>\n",
       "    <tr>\n",
       "      <th>2</th>\n",
       "      <td>3.0</td>\n",
       "      <td>3.0</td>\n",
       "      <td>1.666667</td>\n",
       "      <td>1.000000</td>\n",
       "      <td>1815.833333</td>\n",
       "      <td>1.0</td>\n",
       "      <td>2.90000</td>\n",
       "      <td>10.000000</td>\n",
       "      <td>3976.810000</td>\n",
       "      <td>1.0</td>\n",
       "      <td>-1</td>\n",
       "      <td>0.0</td>\n",
       "      <td>0.0</td>\n",
       "      <td>0.0</td>\n",
       "    </tr>\n",
       "    <tr>\n",
       "      <th>3</th>\n",
       "      <td>1.0</td>\n",
       "      <td>1.0</td>\n",
       "      <td>1.000000</td>\n",
       "      <td>1.000000</td>\n",
       "      <td>3587.000000</td>\n",
       "      <td>0.0</td>\n",
       "      <td>0.00000</td>\n",
       "      <td>0.000000</td>\n",
       "      <td>0.000000</td>\n",
       "      <td>0.0</td>\n",
       "      <td>29</td>\n",
       "      <td>0.0</td>\n",
       "      <td>0.0</td>\n",
       "      <td>0.0</td>\n",
       "    </tr>\n",
       "    <tr>\n",
       "      <th>4</th>\n",
       "      <td>6.0</td>\n",
       "      <td>1.0</td>\n",
       "      <td>1.033333</td>\n",
       "      <td>2.833333</td>\n",
       "      <td>232.250000</td>\n",
       "      <td>0.0</td>\n",
       "      <td>0.00000</td>\n",
       "      <td>0.000000</td>\n",
       "      <td>0.000000</td>\n",
       "      <td>0.0</td>\n",
       "      <td>-1</td>\n",
       "      <td>0.0</td>\n",
       "      <td>0.0</td>\n",
       "      <td>0.0</td>\n",
       "    </tr>\n",
       "  </tbody>\n",
       "</table>\n",
       "</div>"
      ],
      "text/plain": [
       "   innCountOut  regionsCountOut  averageCountOut  weeksAmountOut  \\\n",
       "0         34.0             15.0         1.919024        2.500000   \n",
       "1          1.0              1.0         2.000000        7.000000   \n",
       "2          3.0              3.0         1.666667        1.000000   \n",
       "3          1.0              1.0         1.000000        1.000000   \n",
       "4          6.0              1.0         1.033333        2.833333   \n",
       "\n",
       "   averageSumOut  innCountIn  averageCountIn  weeksAmountIn  averageSumIn  \\\n",
       "0  167699.451718       144.0         2.09405       3.104167  28074.012083   \n",
       "1    2514.285714         0.0         0.00000       0.000000      0.000000   \n",
       "2    1815.833333         1.0         2.90000      10.000000   3976.810000   \n",
       "3    3587.000000         0.0         0.00000       0.000000      0.000000   \n",
       "4     232.250000         0.0         0.00000       0.000000      0.000000   \n",
       "\n",
       "   regionsCountIn  okved2  selfPayment  zeroSumOut  zeroSumIn  \n",
       "0            21.0      -1          1.0         0.0        0.0  \n",
       "1             0.0      62          0.0         0.0        0.0  \n",
       "2             1.0      -1          0.0         0.0        0.0  \n",
       "3             0.0      29          0.0         0.0        0.0  \n",
       "4             0.0      -1          0.0         0.0        0.0  "
      ]
     },
     "execution_count": 13,
     "metadata": {},
     "output_type": "execute_result"
    }
   ],
   "source": [
    "df.head()"
   ]
  },
  {
   "cell_type": "markdown",
   "metadata": {},
   "source": [
    "## Предварительный анализ"
   ]
  },
  {
   "cell_type": "markdown",
   "metadata": {},
   "source": [
    "Разбиение датасета на обучающую выборку `train_df` и тестовой `test_df` выборки по флагу `okved2` = -1"
   ]
  },
  {
   "cell_type": "code",
   "execution_count": 14,
   "metadata": {},
   "outputs": [],
   "source": [
    "train_df = df[df['okved2'] != -1]\n",
    "test_df = df[df['okved2'] == -1]"
   ]
  },
  {
   "cell_type": "markdown",
   "metadata": {},
   "source": [
    "### Baseline"
   ]
  },
  {
   "cell_type": "markdown",
   "metadata": {},
   "source": [
    "Распределение значений зависимой переменной `okved2`"
   ]
  },
  {
   "cell_type": "code",
   "execution_count": 15,
   "metadata": {},
   "outputs": [
    {
     "data": {
      "text/plain": [
       "12    44918\n",
       "34    13654\n",
       "14    10179\n",
       "4      7617\n",
       "52     6986\n",
       "Name: okved2, dtype: int64"
      ]
     },
     "execution_count": 15,
     "metadata": {},
     "output_type": "execute_result"
    }
   ],
   "source": [
    "train_df['okved2'].value_counts().head()"
   ]
  },
  {
   "cell_type": "code",
   "execution_count": 16,
   "metadata": {},
   "outputs": [
    {
     "data": {
      "image/png": "[encoded data removed]",
      "text/plain": [
       "<matplotlib.figure.Figure at 0x7fab579cb6a0>"
      ]
     },
     "metadata": {},
     "output_type": "display_data"
    }
   ],
   "source": [
    "train_df['okved2'].hist(bins=train_df['okved2'].nunique(), figsize=(10,5));"
   ]
  },
  {
   "cell_type": "markdown",
   "metadata": {},
   "source": [
    "Из гистограммы распределения видно, что большинство значений `okved2` принадлежат 12 классу. Наивный классификатор, всегда относящий наблюдение к ОКВЭД 12 будет точен в 28% случаев, поэтому baseline нашей модели = 0.28"
   ]
  },
  {
   "cell_type": "code",
   "execution_count": 17,
   "metadata": {},
   "outputs": [
    {
     "data": {
      "text/plain": [
       "0.27827649227147416"
      ]
     },
     "execution_count": 17,
     "metadata": {},
     "output_type": "execute_result"
    }
   ],
   "source": [
    "train_df['okved2'].value_counts().max()/train_df['okved2'].shape[0]"
   ]
  },
  {
   "cell_type": "markdown",
   "metadata": {},
   "source": [
    "### Корреляция"
   ]
  },
  {
   "cell_type": "code",
   "execution_count": 18,
   "metadata": {},
   "outputs": [
    {
     "data": {
      "text/html": [
       "<div>\n",
       "<table border=\"1\" class=\"dataframe\">\n",
       "  <thead>\n",
       "    <tr style=\"text-align: right;\">\n",
       "      <th></th>\n",
       "      <th>innCountOut</th>\n",
       "      <th>regionsCountOut</th>\n",
       "      <th>averageCountOut</th>\n",
       "      <th>weeksAmountOut</th>\n",
       "      <th>averageSumOut</th>\n",
       "      <th>innCountIn</th>\n",
       "      <th>averageCountIn</th>\n",
       "      <th>weeksAmountIn</th>\n",
       "      <th>averageSumIn</th>\n",
       "      <th>regionsCountIn</th>\n",
       "      <th>okved2</th>\n",
       "      <th>selfPayment</th>\n",
       "      <th>zeroSumOut</th>\n",
       "      <th>zeroSumIn</th>\n",
       "    </tr>\n",
       "  </thead>\n",
       "  <tbody>\n",
       "    <tr>\n",
       "      <th>innCountOut</th>\n",
       "      <td>1.000000</td>\n",
       "      <td>0.439841</td>\n",
       "      <td>0.064751</td>\n",
       "      <td>0.066642</td>\n",
       "      <td>-0.000741</td>\n",
       "      <td>0.381247</td>\n",
       "      <td>0.038037</td>\n",
       "      <td>0.025067</td>\n",
       "      <td>0.001756</td>\n",
       "      <td>0.274811</td>\n",
       "      <td>-0.008708</td>\n",
       "      <td>0.118318</td>\n",
       "      <td>0.219905</td>\n",
       "      <td>0.096073</td>\n",
       "    </tr>\n",
       "    <tr>\n",
       "      <th>regionsCountOut</th>\n",
       "      <td>0.439841</td>\n",
       "      <td>1.000000</td>\n",
       "      <td>0.264231</td>\n",
       "      <td>0.216077</td>\n",
       "      <td>0.019893</td>\n",
       "      <td>0.552617</td>\n",
       "      <td>0.046834</td>\n",
       "      <td>0.012161</td>\n",
       "      <td>0.000382</td>\n",
       "      <td>0.593662</td>\n",
       "      <td>-0.022621</td>\n",
       "      <td>0.321821</td>\n",
       "      <td>0.190285</td>\n",
       "      <td>0.122365</td>\n",
       "    </tr>\n",
       "    <tr>\n",
       "      <th>averageCountOut</th>\n",
       "      <td>0.064751</td>\n",
       "      <td>0.264231</td>\n",
       "      <td>1.000000</td>\n",
       "      <td>0.514556</td>\n",
       "      <td>0.069806</td>\n",
       "      <td>0.166033</td>\n",
       "      <td>0.091909</td>\n",
       "      <td>-0.064315</td>\n",
       "      <td>0.018402</td>\n",
       "      <td>0.184869</td>\n",
       "      <td>-0.017464</td>\n",
       "      <td>0.269357</td>\n",
       "      <td>0.041696</td>\n",
       "      <td>0.055161</td>\n",
       "    </tr>\n",
       "    <tr>\n",
       "      <th>weeksAmountOut</th>\n",
       "      <td>0.066642</td>\n",
       "      <td>0.216077</td>\n",
       "      <td>0.514556</td>\n",
       "      <td>1.000000</td>\n",
       "      <td>0.052005</td>\n",
       "      <td>0.141037</td>\n",
       "      <td>-0.048707</td>\n",
       "      <td>-0.023474</td>\n",
       "      <td>-0.000589</td>\n",
       "      <td>0.136693</td>\n",
       "      <td>-0.045530</td>\n",
       "      <td>0.198611</td>\n",
       "      <td>0.043221</td>\n",
       "      <td>0.049230</td>\n",
       "    </tr>\n",
       "    <tr>\n",
       "      <th>averageSumOut</th>\n",
       "      <td>-0.000741</td>\n",
       "      <td>0.019893</td>\n",
       "      <td>0.069806</td>\n",
       "      <td>0.052005</td>\n",
       "      <td>1.000000</td>\n",
       "      <td>0.036964</td>\n",
       "      <td>0.008982</td>\n",
       "      <td>-0.010912</td>\n",
       "      <td>0.106137</td>\n",
       "      <td>0.035582</td>\n",
       "      <td>0.004623</td>\n",
       "      <td>0.058106</td>\n",
       "      <td>0.002785</td>\n",
       "      <td>0.010033</td>\n",
       "    </tr>\n",
       "    <tr>\n",
       "      <th>innCountIn</th>\n",
       "      <td>0.381247</td>\n",
       "      <td>0.552617</td>\n",
       "      <td>0.166033</td>\n",
       "      <td>0.141037</td>\n",
       "      <td>0.036964</td>\n",
       "      <td>1.000000</td>\n",
       "      <td>0.135656</td>\n",
       "      <td>0.104046</td>\n",
       "      <td>0.007783</td>\n",
       "      <td>0.797176</td>\n",
       "      <td>0.028294</td>\n",
       "      <td>0.390514</td>\n",
       "      <td>0.200333</td>\n",
       "      <td>0.201097</td>\n",
       "    </tr>\n",
       "    <tr>\n",
       "      <th>averageCountIn</th>\n",
       "      <td>0.038037</td>\n",
       "      <td>0.046834</td>\n",
       "      <td>0.091909</td>\n",
       "      <td>-0.048707</td>\n",
       "      <td>0.008982</td>\n",
       "      <td>0.135656</td>\n",
       "      <td>1.000000</td>\n",
       "      <td>0.395500</td>\n",
       "      <td>0.051270</td>\n",
       "      <td>0.268013</td>\n",
       "      <td>0.009830</td>\n",
       "      <td>0.183091</td>\n",
       "      <td>0.024148</td>\n",
       "      <td>0.047434</td>\n",
       "    </tr>\n",
       "    <tr>\n",
       "      <th>weeksAmountIn</th>\n",
       "      <td>0.025067</td>\n",
       "      <td>0.012161</td>\n",
       "      <td>-0.064315</td>\n",
       "      <td>-0.023474</td>\n",
       "      <td>-0.010912</td>\n",
       "      <td>0.104046</td>\n",
       "      <td>0.395500</td>\n",
       "      <td>1.000000</td>\n",
       "      <td>0.020146</td>\n",
       "      <td>0.182977</td>\n",
       "      <td>-0.030990</td>\n",
       "      <td>0.078584</td>\n",
       "      <td>0.012821</td>\n",
       "      <td>0.038992</td>\n",
       "    </tr>\n",
       "    <tr>\n",
       "      <th>averageSumIn</th>\n",
       "      <td>0.001756</td>\n",
       "      <td>0.000382</td>\n",
       "      <td>0.018402</td>\n",
       "      <td>-0.000589</td>\n",
       "      <td>0.106137</td>\n",
       "      <td>0.007783</td>\n",
       "      <td>0.051270</td>\n",
       "      <td>0.020146</td>\n",
       "      <td>1.000000</td>\n",
       "      <td>0.017993</td>\n",
       "      <td>0.002127</td>\n",
       "      <td>0.026824</td>\n",
       "      <td>0.003118</td>\n",
       "      <td>0.002917</td>\n",
       "    </tr>\n",
       "    <tr>\n",
       "      <th>regionsCountIn</th>\n",
       "      <td>0.274811</td>\n",
       "      <td>0.593662</td>\n",
       "      <td>0.184869</td>\n",
       "      <td>0.136693</td>\n",
       "      <td>0.035582</td>\n",
       "      <td>0.797176</td>\n",
       "      <td>0.268013</td>\n",
       "      <td>0.182977</td>\n",
       "      <td>0.017993</td>\n",
       "      <td>1.000000</td>\n",
       "      <td>0.020503</td>\n",
       "      <td>0.456072</td>\n",
       "      <td>0.155798</td>\n",
       "      <td>0.176134</td>\n",
       "    </tr>\n",
       "    <tr>\n",
       "      <th>okved2</th>\n",
       "      <td>-0.008708</td>\n",
       "      <td>-0.022621</td>\n",
       "      <td>-0.017464</td>\n",
       "      <td>-0.045530</td>\n",
       "      <td>0.004623</td>\n",
       "      <td>0.028294</td>\n",
       "      <td>0.009830</td>\n",
       "      <td>-0.030990</td>\n",
       "      <td>0.002127</td>\n",
       "      <td>0.020503</td>\n",
       "      <td>1.000000</td>\n",
       "      <td>0.012122</td>\n",
       "      <td>0.000799</td>\n",
       "      <td>0.004320</td>\n",
       "    </tr>\n",
       "    <tr>\n",
       "      <th>selfPayment</th>\n",
       "      <td>0.118318</td>\n",
       "      <td>0.321821</td>\n",
       "      <td>0.269357</td>\n",
       "      <td>0.198611</td>\n",
       "      <td>0.058106</td>\n",
       "      <td>0.390514</td>\n",
       "      <td>0.183091</td>\n",
       "      <td>0.078584</td>\n",
       "      <td>0.026824</td>\n",
       "      <td>0.456072</td>\n",
       "      <td>0.012122</td>\n",
       "      <td>1.000000</td>\n",
       "      <td>0.079116</td>\n",
       "      <td>0.114451</td>\n",
       "    </tr>\n",
       "    <tr>\n",
       "      <th>zeroSumOut</th>\n",
       "      <td>0.219905</td>\n",
       "      <td>0.190285</td>\n",
       "      <td>0.041696</td>\n",
       "      <td>0.043221</td>\n",
       "      <td>0.002785</td>\n",
       "      <td>0.200333</td>\n",
       "      <td>0.024148</td>\n",
       "      <td>0.012821</td>\n",
       "      <td>0.003118</td>\n",
       "      <td>0.155798</td>\n",
       "      <td>0.000799</td>\n",
       "      <td>0.079116</td>\n",
       "      <td>1.000000</td>\n",
       "      <td>0.098939</td>\n",
       "    </tr>\n",
       "    <tr>\n",
       "      <th>zeroSumIn</th>\n",
       "      <td>0.096073</td>\n",
       "      <td>0.122365</td>\n",
       "      <td>0.055161</td>\n",
       "      <td>0.049230</td>\n",
       "      <td>0.010033</td>\n",
       "      <td>0.201097</td>\n",
       "      <td>0.047434</td>\n",
       "      <td>0.038992</td>\n",
       "      <td>0.002917</td>\n",
       "      <td>0.176134</td>\n",
       "      <td>0.004320</td>\n",
       "      <td>0.114451</td>\n",
       "      <td>0.098939</td>\n",
       "      <td>1.000000</td>\n",
       "    </tr>\n",
       "  </tbody>\n",
       "</table>\n",
       "</div>"
      ],
      "text/plain": [
       "                 innCountOut  regionsCountOut  averageCountOut  \\\n",
       "innCountOut         1.000000         0.439841         0.064751   \n",
       "regionsCountOut     0.439841         1.000000         0.264231   \n",
       "averageCountOut     0.064751         0.264231         1.000000   \n",
       "weeksAmountOut      0.066642         0.216077         0.514556   \n",
       "averageSumOut      -0.000741         0.019893         0.069806   \n",
       "innCountIn          0.381247         0.552617         0.166033   \n",
       "averageCountIn      0.038037         0.046834         0.091909   \n",
       "weeksAmountIn       0.025067         0.012161        -0.064315   \n",
       "averageSumIn        0.001756         0.000382         0.018402   \n",
       "regionsCountIn      0.274811         0.593662         0.184869   \n",
       "okved2             -0.008708        -0.022621        -0.017464   \n",
       "selfPayment         0.118318         0.321821         0.269357   \n",
       "zeroSumOut          0.219905         0.190285         0.041696   \n",
       "zeroSumIn           0.096073         0.122365         0.055161   \n",
       "\n",
       "                 weeksAmountOut  averageSumOut  innCountIn  averageCountIn  \\\n",
       "innCountOut            0.066642      -0.000741    0.381247        0.038037   \n",
       "regionsCountOut        0.216077       0.019893    0.552617        0.046834   \n",
       "averageCountOut        0.514556       0.069806    0.166033        0.091909   \n",
       "weeksAmountOut         1.000000       0.052005    0.141037       -0.048707   \n",
       "averageSumOut          0.052005       1.000000    0.036964        0.008982   \n",
       "innCountIn             0.141037       0.036964    1.000000        0.135656   \n",
       "averageCountIn        -0.048707       0.008982    0.135656        1.000000   \n",
       "weeksAmountIn         -0.023474      -0.010912    0.104046        0.395500   \n",
       "averageSumIn          -0.000589       0.106137    0.007783        0.051270   \n",
       "regionsCountIn         0.136693       0.035582    0.797176        0.268013   \n",
       "okved2                -0.045530       0.004623    0.028294        0.009830   \n",
       "selfPayment            0.198611       0.058106    0.390514        0.183091   \n",
       "zeroSumOut             0.043221       0.002785    0.200333        0.024148   \n",
       "zeroSumIn              0.049230       0.010033    0.201097        0.047434   \n",
       "\n",
       "                 weeksAmountIn  averageSumIn  regionsCountIn    okved2  \\\n",
       "innCountOut           0.025067      0.001756        0.274811 -0.008708   \n",
       "regionsCountOut       0.012161      0.000382        0.593662 -0.022621   \n",
       "averageCountOut      -0.064315      0.018402        0.184869 -0.017464   \n",
       "weeksAmountOut       -0.023474     -0.000589        0.136693 -0.045530   \n",
       "averageSumOut        -0.010912      0.106137        0.035582  0.004623   \n",
       "innCountIn            0.104046      0.007783        0.797176  0.028294   \n",
       "averageCountIn        0.395500      0.051270        0.268013  0.009830   \n",
       "weeksAmountIn         1.000000      0.020146        0.182977 -0.030990   \n",
       "averageSumIn          0.020146      1.000000        0.017993  0.002127   \n",
       "regionsCountIn        0.182977      0.017993        1.000000  0.020503   \n",
       "okved2               -0.030990      0.002127        0.020503  1.000000   \n",
       "selfPayment           0.078584      0.026824        0.456072  0.012122   \n",
       "zeroSumOut            0.012821      0.003118        0.155798  0.000799   \n",
       "zeroSumIn             0.038992      0.002917        0.176134  0.004320   \n",
       "\n",
       "                 selfPayment  zeroSumOut  zeroSumIn  \n",
       "innCountOut         0.118318    0.219905   0.096073  \n",
       "regionsCountOut     0.321821    0.190285   0.122365  \n",
       "averageCountOut     0.269357    0.041696   0.055161  \n",
       "weeksAmountOut      0.198611    0.043221   0.049230  \n",
       "averageSumOut       0.058106    0.002785   0.010033  \n",
       "innCountIn          0.390514    0.200333   0.201097  \n",
       "averageCountIn      0.183091    0.024148   0.047434  \n",
       "weeksAmountIn       0.078584    0.012821   0.038992  \n",
       "averageSumIn        0.026824    0.003118   0.002917  \n",
       "regionsCountIn      0.456072    0.155798   0.176134  \n",
       "okved2              0.012122    0.000799   0.004320  \n",
       "selfPayment         1.000000    0.079116   0.114451  \n",
       "zeroSumOut          0.079116    1.000000   0.098939  \n",
       "zeroSumIn           0.114451    0.098939   1.000000  "
      ]
     },
     "execution_count": 18,
     "metadata": {},
     "output_type": "execute_result"
    }
   ],
   "source": [
    "train_df.corr()"
   ]
  },
  {
   "cell_type": "code",
   "execution_count": 19,
   "metadata": {},
   "outputs": [
    {
     "data": {
      "image/png": "[encoded data removed]",
      "text/plain": [
       "<matplotlib.figure.Figure at 0x7fab57904da0>"
      ]
     },
     "metadata": {},
     "output_type": "display_data"
    }
   ],
   "source": [
    "sns.heatmap(train_df.corr());"
   ]
  },
  {
   "cell_type": "markdown",
   "metadata": {
    "collapsed": true
   },
   "source": [
    "## Machine Learning"
   ]
  },
  {
   "cell_type": "markdown",
   "metadata": {},
   "source": [
    "Разбиение датасета `train_df` на обучающую `X_train`, тестовую/валидационную `X_test` выборки, а также на метки `okved2` классов `y_train` `y_test`. Отношение обучающей и тестовой выборок равно 0.2. Предсказание классов для наилучшей с точки зрения метрики качества модели будем смотреть на отложенной выборке `test_df`"
   ]
  },
  {
   "cell_type": "code",
   "execution_count": 20,
   "metadata": {},
   "outputs": [],
   "source": [
    "X_train, X_test, y_train, y_test = train_test_split(\n",
    "    train_df.loc[:,train_df.columns != 'okved2'], train_df['okved2'], test_size=0.2, random_state=17)"
   ]
  },
  {
   "cell_type": "markdown",
   "metadata": {},
   "source": [
    "### Decision tree"
   ]
  },
  {
   "cell_type": "markdown",
   "metadata": {},
   "source": [
    "Функцией потерь в модели будет являеться `Gini index`, деревья строятся максимально возможной глубины"
   ]
  },
  {
   "cell_type": "code",
   "execution_count": 21,
   "metadata": {},
   "outputs": [
    {
     "name": "stdout",
     "output_type": "stream",
     "text": [
      "CPU times: user 3.45 s, sys: 58.3 ms, total: 3.51 s\n",
      "Wall time: 3.51 s\n"
     ]
    }
   ],
   "source": [
    "%%time\n",
    "tree = DecisionTreeClassifier()\n",
    "tree.fit(X_train, y_train)\n",
    "tree_pred = tree.predict(X_test)"
   ]
  },
  {
   "cell_type": "code",
   "execution_count": 22,
   "metadata": {},
   "outputs": [
    {
     "data": {
      "text/plain": [
       "0.14617600594740265"
      ]
     },
     "execution_count": 22,
     "metadata": {},
     "output_type": "execute_result"
    }
   ],
   "source": [
    "accuracy_score(y_test, tree_pred)"
   ]
  },
  {
   "cell_type": "markdown",
   "metadata": {},
   "source": [
    "Accuracy модели `0.143`"
   ]
  },
  {
   "cell_type": "markdown",
   "metadata": {},
   "source": [
    "### Balanced tree"
   ]
  },
  {
   "cell_type": "markdown",
   "metadata": {},
   "source": [
    "Из гистограммы распределения классов переменной `okved2` видно, что ее значения распределены неравномерно. Удельный вес 12 класса составляет 30%. 34 класса-7%, 4 класса- 7%. Переменная `okved2` принимает значения из 3 классов в 45% случаев. При построении дерева обучающие данные для разных классов подаются неравномерно, что сказывается как на точности предсказания модели в общем и на предсказании классов с маленький удельным весом в частности. Для решения этой проблемы необходимо применять балансировку. Ее суть заключается в том, что данные из разных классов подаются равномерно вне зависимости от удельного веса"
   ]
  },
  {
   "cell_type": "code",
   "execution_count": 23,
   "metadata": {},
   "outputs": [
    {
     "name": "stdout",
     "output_type": "stream",
     "text": [
      "CPU times: user 4.59 s, sys: 46.9 ms, total: 4.64 s\n",
      "Wall time: 4.64 s\n"
     ]
    }
   ],
   "source": [
    "%%time\n",
    "tree = DecisionTreeClassifier(class_weight='balanced')\n",
    "tree.fit(X_train, y_train)\n",
    "tree_pred = tree.predict(X_test)"
   ]
  },
  {
   "cell_type": "code",
   "execution_count": 24,
   "metadata": {},
   "outputs": [
    {
     "data": {
      "text/plain": [
       "0.12746646841991141"
      ]
     },
     "execution_count": 24,
     "metadata": {},
     "output_type": "execute_result"
    }
   ],
   "source": [
    "accuracy_score(y_test, tree_pred)"
   ]
  },
  {
   "cell_type": "markdown",
   "metadata": {},
   "source": [
    "Accuracy модели снизился до `0.128`"
   ]
  },
  {
   "cell_type": "code",
   "execution_count": 25,
   "metadata": {},
   "outputs": [],
   "source": [
    "# функция для построение графика вклада переменных\n",
    "def featureImportances(model, title) :\n",
    "    importances = model.feature_importances_\n",
    "    indices = np.arange(len(X_train.columns))\n",
    "    \n",
    "    plt.figure(figsize=(10,5))\n",
    "    plt.title(title)\n",
    "    plt.barh(range(len(indices)), importances[indices], color='g', align='center')\n",
    "    plt.yticks(range(len(indices)), (X_train.columns));"
   ]
  },
  {
   "cell_type": "code",
   "execution_count": 26,
   "metadata": {},
   "outputs": [
    {
     "data": {
      "image/png": "[encoded data removed]",
      "text/plain": [
       "<matplotlib.figure.Figure at 0x7fab5789d198>"
      ]
     },
     "metadata": {},
     "output_type": "display_data"
    }
   ],
   "source": [
    "featureImportances(tree, 'Tree Variable Importances')"
   ]
  },
  {
   "cell_type": "markdown",
   "metadata": {},
   "source": [
    "Максимальный вклад в предсказательную точность вносят переменные `averageSumIn` и `AverageSumOut`"
   ]
  },
  {
   "cell_type": "markdown",
   "metadata": {},
   "source": [
    "### Random Forest"
   ]
  },
  {
   "cell_type": "code",
   "execution_count": 27,
   "metadata": {},
   "outputs": [
    {
     "name": "stdout",
     "output_type": "stream",
     "text": [
      "CPU times: user 16.2 s, sys: 21.7 s, total: 37.9 s\n",
      "Wall time: 38 s\n"
     ]
    }
   ],
   "source": [
    "%%time\n",
    "rf = RandomForestClassifier(n_estimators=20, class_weight='balanced')\n",
    "rf.fit(X_train, y_train)\n",
    "rf_pred = rf.predict(X_test)"
   ]
  },
  {
   "cell_type": "code",
   "execution_count": 28,
   "metadata": {},
   "outputs": [
    {
     "data": {
      "text/plain": [
       "0.21900071244927671"
      ]
     },
     "execution_count": 28,
     "metadata": {},
     "output_type": "execute_result"
    }
   ],
   "source": [
    "accuracy_score(y_test, rf_pred)"
   ]
  },
  {
   "cell_type": "markdown",
   "metadata": {},
   "source": [
    "Accuracy 0.22"
   ]
  },
  {
   "cell_type": "code",
   "execution_count": 29,
   "metadata": {},
   "outputs": [
    {
     "data": {
      "image/png": "[encoded data removed]",
      "text/plain": [
       "<matplotlib.figure.Figure at 0x7fab578fd2e8>"
      ]
     },
     "metadata": {},
     "output_type": "display_data"
    }
   ],
   "source": [
    "featureImportances(rf, 'Random Forest Variable Importances')"
   ]
  },
  {
   "cell_type": "markdown",
   "metadata": {},
   "source": [
    "Случайный лес показал примерно аналогичный вклад каждой переменной как и в деревьях решений"
   ]
  },
  {
   "cell_type": "markdown",
   "metadata": {},
   "source": [
    "### KNN"
   ]
  },
  {
   "cell_type": "markdown",
   "metadata": {},
   "source": [
    "Перед использованием метода ближайших соседей, необходимо стандартизировать датасеты `X_train` и `X_test`, т.е. привести каждую независимую переменную к математическому ожидания 0 и дисперсии 1"
   ]
  },
  {
   "cell_type": "code",
   "execution_count": 30,
   "metadata": {},
   "outputs": [],
   "source": [
    "scaler = StandardScaler().fit(X_train)"
   ]
  },
  {
   "cell_type": "code",
   "execution_count": 31,
   "metadata": {},
   "outputs": [
    {
     "data": {
      "text/plain": [
       "array([  6.31719481e+00,   1.44727101e+00,   1.35879082e+00,\n",
       "         1.99495331e+00,   1.81008053e+04,   6.30116470e+00,\n",
       "         1.64540414e+00,   2.56899701e+00,   1.36172261e+04,\n",
       "         1.82665025e+00,   7.23058576e-02,   4.87872874e-03,\n",
       "         9.71099340e-03])"
      ]
     },
     "execution_count": 31,
     "metadata": {},
     "output_type": "execute_result"
    }
   ],
   "source": [
    "scaler.mean_"
   ]
  },
  {
   "cell_type": "code",
   "execution_count": 32,
   "metadata": {},
   "outputs": [
    {
     "data": {
      "text/plain": [
       "array([  4.98981251e+01,   3.02999999e+00,   1.64874678e+00,\n",
       "         2.74634968e+00,   1.79718959e+05,   2.05492582e+01,\n",
       "         1.41184035e+00,   3.08059852e+00,   9.40819532e+04,\n",
       "         2.77212619e+00,   2.58993669e-01,   6.96773044e-02,\n",
       "         9.80647236e-02])"
      ]
     },
     "execution_count": 32,
     "metadata": {},
     "output_type": "execute_result"
    }
   ],
   "source": [
    "scaler.scale_"
   ]
  },
  {
   "cell_type": "code",
   "execution_count": 33,
   "metadata": {},
   "outputs": [],
   "source": [
    "scale_X_train = scaler.transform(X_train)\n",
    "scale_X_test = scaler.transform(X_test)"
   ]
  },
  {
   "cell_type": "code",
   "execution_count": 34,
   "metadata": {},
   "outputs": [
    {
     "name": "stdout",
     "output_type": "stream",
     "text": [
      "CPU times: user 31 s, sys: 25 ms, total: 31 s\n",
      "Wall time: 30.9 s\n"
     ]
    }
   ],
   "source": [
    "%%time\n",
    "knn = KNeighborsClassifier()\n",
    "knn.fit(scale_X_train, y_train)\n",
    "knn_pred = knn.predict(scale_X_test)"
   ]
  },
  {
   "cell_type": "code",
   "execution_count": 35,
   "metadata": {},
   "outputs": [
    {
     "data": {
      "text/plain": [
       "0.21463308862249481"
      ]
     },
     "execution_count": 35,
     "metadata": {},
     "output_type": "execute_result"
    }
   ],
   "source": [
    "accuracy_score(y_test, knn_pred)"
   ]
  },
  {
   "cell_type": "markdown",
   "metadata": {},
   "source": [
    "Accuracy 0.21"
   ]
  },
  {
   "cell_type": "markdown",
   "metadata": {},
   "source": [
    "Поиск лучшего гиперпараметра `n_neighbors` минимизирующего целевую функцию, будем искать по сетке различных гиперпараметров. Ошибка вычисляется на 5-fold кросс-валидации"
   ]
  },
  {
   "cell_type": "code",
   "execution_count": 36,
   "metadata": {},
   "outputs": [],
   "source": [
    "tuned_param_knn = {'n_neighbors': np.arange(10, 25)}"
   ]
  },
  {
   "cell_type": "code",
   "execution_count": 37,
   "metadata": {},
   "outputs": [],
   "source": [
    "knn_cv = GridSearchCV(knn, tuned_param_knn, cv=5, scoring='accuracy', n_jobs=-1)"
   ]
  },
  {
   "cell_type": "code",
   "execution_count": 38,
   "metadata": {},
   "outputs": [],
   "source": [
    "#%%time\n",
    "#knn_cv.fit(scale_X_train, y_train)"
   ]
  },
  {
   "cell_type": "code",
   "execution_count": 39,
   "metadata": {},
   "outputs": [],
   "source": [
    "#knn_cv.best_estimator_"
   ]
  },
  {
   "cell_type": "code",
   "execution_count": null,
   "metadata": {},
   "outputs": [],
   "source": [
    "#knn_cv.best_score_"
   ]
  },
  {
   "cell_type": "markdown",
   "metadata": {},
   "source": [
    "Accuracy 0.28"
   ]
  },
  {
   "cell_type": "markdown",
   "metadata": {},
   "source": [
    "### Logit"
   ]
  },
  {
   "cell_type": "code",
   "execution_count": null,
   "metadata": {},
   "outputs": [],
   "source": [
    "logit = LogisticRegression(n_jobs=-1, random_state=17, solver='lbfgs', class_weight='balanced')\n",
    "logit.fit(scale_X_train, y_train)\n",
    "logit_pred = logit.predict(scale_X_test)\n",
    "accuracy_score(y_test, logit_pred)"
   ]
  },
  {
   "cell_type": "markdown",
   "metadata": {},
   "source": [
    "Accuracy 0.04"
   ]
  },
  {
   "cell_type": "code",
   "execution_count": null,
   "metadata": {},
   "outputs": [],
   "source": [
    "tuned_param_logit = {'C': np.array([1e-05, 1e-04, 1e-03, 1e-02, 0.1])}"
   ]
  },
  {
   "cell_type": "code",
   "execution_count": null,
   "metadata": {},
   "outputs": [],
   "source": [
    "logit_cv = GridSearchCV(logit, tuned_param_logit, cv=5, scoring='accuracy', n_jobs=-1)"
   ]
  },
  {
   "cell_type": "code",
   "execution_count": null,
   "metadata": {},
   "outputs": [],
   "source": [
    "#%%time\n",
    "#logit_cv.fit(scale_X_train, y_train)"
   ]
  },
  {
   "cell_type": "code",
   "execution_count": null,
   "metadata": {},
   "outputs": [],
   "source": [
    "#logit_cv.best_estimator_.C"
   ]
  },
  {
   "cell_type": "code",
   "execution_count": null,
   "metadata": {},
   "outputs": [],
   "source": [
    "#logit_cv.best_score_"
   ]
  },
  {
   "cell_type": "markdown",
   "metadata": {},
   "source": [
    "Accuracy 0.05"
   ]
  },
  {
   "cell_type": "markdown",
   "metadata": {},
   "source": [
    "Как видно, все вышеприведенные предсказания получаются значительно ниже baseline. В случае, когда балансировка не применяется `class_weight='none'`, значения accuracy очень близки к baseline и не зависят от регуляризации. Это объясняется тем, что данные для обучения отбираются неравномерно и почти все данные, подающиеся на обучение, состоят из 12 класса, удельный вес которог окак раз и получается равным 0.28"
   ]
  },
  {
   "cell_type": "markdown",
   "metadata": {},
   "source": [
    "## Бинарная классификация"
   ]
  },
  {
   "cell_type": "markdown",
   "metadata": {},
   "source": [
    "Альтернативный вариант- последовательное построение бинарных классификаторов.\n",
    "1. В датасете `train_df` метки 12 класса для `okved2` остаются без изменений, остальные заменяются -2 (поскольку 0 ОКВЭД присутствует в датасете). Таким образом бинарная классификация происходит между 12 и всеми остальными классами.\n",
    "2. Предсказав наилучший результат с т.з. метрики качества, для данной модели предсказывается вектор `y` с метками 0 и 12 на отложенной выборке и результат сохраняется.\n",
    "3. Из датасета `train_df` отбрасываются наблюдения (строчки) с 12 классом и алгоритм повторяется для наиболее часто встречаемого из оставшихся классов (34, после 14)\n",
    "4. Для оставшихся классов с маленьким удельными весом строится мультиклассовая классификация и предсказанные значения на отложенной выборке также сохраняются в вектор `y`.\n",
    "5. Accuracy модели считается для каждой классификации, а суммарная точность берется как взвешенная сумма (в зависимости от размера предсказываемого класса в исходной выборке)\n",
    "6. Итоговый вектор с метками классов `okved2` компануется из векторов `y` и сохраняется в submission file"
   ]
  },
  {
   "cell_type": "markdown",
   "metadata": {},
   "source": [
    "### 12 и остальные классы"
   ]
  },
  {
   "cell_type": "code",
   "execution_count": null,
   "metadata": {},
   "outputs": [],
   "source": [
    "# сортировка innInfo по ИНН. df уже отсротирован по возрастанию\n",
    "innInfo = innInfo.sort_values(by = \"hash_inn\")\n",
    "innInfo.head()"
   ]
  },
  {
   "cell_type": "code",
   "execution_count": null,
   "metadata": {},
   "outputs": [],
   "source": [
    "train_df = df[df['okved2'] != -1]\n",
    "test_df = df[df['okved2'] == -1]\n",
    "\n",
    "train_df.loc[~train_df['okved2'].isin([12]), 'okved2'] = -2"
   ]
  },
  {
   "cell_type": "code",
   "execution_count": null,
   "metadata": {},
   "outputs": [],
   "source": [
    "X_train, X_test, y_train, y_test = train_test_split(\n",
    "    train_df.loc[:,train_df.columns != 'okved2'], train_df['okved2'], test_size=0.2, random_state=17)"
   ]
  },
  {
   "cell_type": "code",
   "execution_count": null,
   "metadata": {},
   "outputs": [],
   "source": [
    "## Random forest\n",
    "rf = RandomForestClassifier(n_estimators=20, class_weight='balanced')\n",
    "rf.fit(X_train, y_train)\n",
    "rf_pred = rf.predict(X_test)\n",
    "accuracy_score(y_test, rf_pred)"
   ]
  },
  {
   "cell_type": "code",
   "execution_count": null,
   "metadata": {},
   "outputs": [],
   "source": [
    "# сохраним accuracy каждого класса для предсказания итоговой точности\n",
    "accuracy12 = accuracy_score(y_test, rf_pred)"
   ]
  },
  {
   "cell_type": "code",
   "execution_count": null,
   "metadata": {},
   "outputs": [],
   "source": [
    "a = rf_pred\n",
    "A = y_test"
   ]
  },
  {
   "cell_type": "code",
   "execution_count": null,
   "metadata": {},
   "outputs": [],
   "source": [
    "featureImportances(rf, 'Random Forest Variable Importances for binary class (12 and the rest)')"
   ]
  },
  {
   "cell_type": "code",
   "execution_count": null,
   "metadata": {},
   "outputs": [],
   "source": [
    "y12 = rf.predict(test_df.loc[:,test_df.columns != 'okved2'])"
   ]
  },
  {
   "cell_type": "code",
   "execution_count": null,
   "metadata": {},
   "outputs": [],
   "source": [
    "outputData = pd.DataFrame({'inn' : innInfo[innInfo['okved2'] == -1]['hash_inn'], \n",
    "              'okved2': y12}\n",
    "            )\n",
    "outputData[outputData['okved2'] == 12].head()"
   ]
  },
  {
   "cell_type": "markdown",
   "metadata": {},
   "source": [
    "### 34 и остальные классы (кроме 12)"
   ]
  },
  {
   "cell_type": "code",
   "execution_count": null,
   "metadata": {},
   "outputs": [],
   "source": [
    "train_df = df[df['okved2'] != -1]\n",
    "train_df = train_df[train_df['okved2'] != 12] # отбрасываем 12 класс\n",
    "train_df.loc[~train_df['okved2'].isin([34]), 'okved2'] = -2"
   ]
  },
  {
   "cell_type": "code",
   "execution_count": null,
   "metadata": {},
   "outputs": [],
   "source": [
    "X_train, X_test, y_train, y_test = train_test_split(\n",
    "    train_df.loc[:,train_df.columns != 'okved2'], train_df['okved2'], test_size=0.2, random_state=17)"
   ]
  },
  {
   "cell_type": "code",
   "execution_count": null,
   "metadata": {},
   "outputs": [],
   "source": [
    "## Random forest\n",
    "rf = RandomForestClassifier(n_estimators=20, class_weight='balanced')\n",
    "rf.fit(X_train, y_train)\n",
    "rf_pred = rf.predict(X_test)\n",
    "accuracy_score(y_test, rf_pred)"
   ]
  },
  {
   "cell_type": "code",
   "execution_count": null,
   "metadata": {},
   "outputs": [],
   "source": [
    "accuracy34 = accuracy_score(y_test, rf_pred)"
   ]
  },
  {
   "cell_type": "code",
   "execution_count": null,
   "metadata": {},
   "outputs": [],
   "source": [
    "b = rf_pred\n",
    "B = y_test"
   ]
  },
  {
   "cell_type": "code",
   "execution_count": null,
   "metadata": {},
   "outputs": [],
   "source": [
    "featureImportances(rf, 'Random Forest Variable Importances for binary class (34 and the rest, 12 excluded)')"
   ]
  },
  {
   "cell_type": "markdown",
   "metadata": {},
   "source": [
    "Для предсказания 34 класса переменная `weeksAmountIn` вносит вклад в 2 раза больше, чем в предсказание других классов. Вклад `AverageSumOut` меньше по сравнению с другими классификациями"
   ]
  },
  {
   "cell_type": "code",
   "execution_count": null,
   "metadata": {},
   "outputs": [],
   "source": [
    "# удаляем строчки, которые были предскзааны для 12 класса и предсказываем для 34\n",
    "test_df = test_df[y12 != 12]\n",
    "y34 = rf.predict(test_df.loc[:,test_df.columns != 'okved2'])"
   ]
  },
  {
   "cell_type": "code",
   "execution_count": null,
   "metadata": {},
   "outputs": [],
   "source": [
    "innInfo = innInfo[innInfo['okved2'] != 12]\n",
    "innInfo = innInfo[innInfo['okved2'] == -1]\n",
    "innInfo = innInfo[y12 != 12]"
   ]
  },
  {
   "cell_type": "code",
   "execution_count": null,
   "metadata": {},
   "outputs": [],
   "source": [
    "outputData2 = pd.DataFrame({'inn' : innInfo['hash_inn'], \n",
    "              'okved2': y34}\n",
    "            )\n",
    "outputData2[outputData2['okved2'] == 34].head()"
   ]
  },
  {
   "cell_type": "markdown",
   "metadata": {},
   "source": [
    "### 14 и остальные классы (кроме 12 и 34)"
   ]
  },
  {
   "cell_type": "code",
   "execution_count": null,
   "metadata": {},
   "outputs": [],
   "source": [
    "train_df = df[df['okved2'] != -1]\n",
    "train_df = train_df[train_df['okved2'] != 12]\n",
    "train_df = train_df[train_df['okved2'] != 34]\n",
    "train_df.loc[~train_df['okved2'].isin([14]), 'okved2'] = -2"
   ]
  },
  {
   "cell_type": "code",
   "execution_count": null,
   "metadata": {},
   "outputs": [],
   "source": [
    "X_train, X_test, y_train, y_test = train_test_split(\n",
    "    train_df.loc[:,train_df.columns != 'okved2'], train_df['okved2'], test_size=0.2, random_state=17)"
   ]
  },
  {
   "cell_type": "code",
   "execution_count": null,
   "metadata": {},
   "outputs": [],
   "source": [
    "## Random forest\n",
    "rf = RandomForestClassifier(n_estimators=20, class_weight='balanced')\n",
    "rf.fit(X_train, y_train)\n",
    "rf_pred = rf.predict(X_test)\n",
    "accuracy_score(y_test, rf_pred)"
   ]
  },
  {
   "cell_type": "code",
   "execution_count": null,
   "metadata": {},
   "outputs": [],
   "source": [
    "accuracy14 = accuracy_score(y_test, rf_pred)"
   ]
  },
  {
   "cell_type": "code",
   "execution_count": null,
   "metadata": {},
   "outputs": [],
   "source": [
    "c = rf_pred\n",
    "C = y_test"
   ]
  },
  {
   "cell_type": "code",
   "execution_count": null,
   "metadata": {},
   "outputs": [],
   "source": [
    "featureImportances(rf, 'Random Forest Variable Importances for binary class (14 and the rest, 12 and 34 excluded)')"
   ]
  },
  {
   "cell_type": "code",
   "execution_count": null,
   "metadata": {},
   "outputs": [],
   "source": [
    "## к уже удаленным строчкам из 12 класса удаляем 34\n",
    "test_df = test_df[y34 != 34]"
   ]
  },
  {
   "cell_type": "code",
   "execution_count": null,
   "metadata": {},
   "outputs": [],
   "source": [
    "y14 = rf.predict(test_df.loc[:,test_df.columns != 'okved2'])"
   ]
  },
  {
   "cell_type": "code",
   "execution_count": null,
   "metadata": {},
   "outputs": [],
   "source": [
    "innInfo = pd.read_csv('https://www.dropbox.com/s/5aztgcxa5euubn4/inn_info_public.csv?dl=1')\n",
    "innInfo = innInfo.sort_values(by = \"hash_inn\")\n",
    "\n",
    "innInfo = innInfo[innInfo['okved2'] != 12]\n",
    "innInfo = innInfo[innInfo['okved2'] != 34]\n",
    "innInfo = innInfo[innInfo['okved2'] == -1]\n",
    "innInfo = innInfo[y12 != 12]\n",
    "innInfo = innInfo[y34 != 34]"
   ]
  },
  {
   "cell_type": "code",
   "execution_count": null,
   "metadata": {},
   "outputs": [],
   "source": [
    "outputData3 = pd.DataFrame({'inn' : innInfo['hash_inn'], \n",
    "              'okved2': y14}\n",
    "            )\n",
    "outputData3[outputData3['okved2'] == 14].head()"
   ]
  },
  {
   "cell_type": "markdown",
   "metadata": {},
   "source": [
    "### Многоклассовая классификация для остальных классов"
   ]
  },
  {
   "cell_type": "code",
   "execution_count": null,
   "metadata": {},
   "outputs": [],
   "source": [
    "train_df = df[df['okved2'] != -1]\n",
    "train_df = train_df[train_df['okved2'] != 12]\n",
    "train_df = train_df[train_df['okved2'] != 34]\n",
    "train_df = train_df[train_df['okved2'] != 14]"
   ]
  },
  {
   "cell_type": "code",
   "execution_count": null,
   "metadata": {},
   "outputs": [],
   "source": [
    "X_train, X_test, y_train, y_test = train_test_split(\n",
    "    train_df.loc[:,train_df.columns != 'okved2'], train_df['okved2'], test_size=0.2, random_state=17)"
   ]
  },
  {
   "cell_type": "code",
   "execution_count": null,
   "metadata": {},
   "outputs": [],
   "source": [
    "## Random forest\n",
    "rf = RandomForestClassifier(n_estimators=20, class_weight='balanced')\n",
    "rf.fit(X_train, y_train)\n",
    "rf_pred = rf.predict(X_test)\n",
    "accuracy_score(y_test, rf_pred)"
   ]
  },
  {
   "cell_type": "code",
   "execution_count": null,
   "metadata": {},
   "outputs": [],
   "source": [
    "accuracy_rest = accuracy_score(y_test, rf_pred)"
   ]
  },
  {
   "cell_type": "code",
   "execution_count": null,
   "metadata": {},
   "outputs": [],
   "source": [
    "d = rf_pred\n",
    "D = y_test"
   ]
  },
  {
   "cell_type": "code",
   "execution_count": null,
   "metadata": {},
   "outputs": [],
   "source": [
    "featureImportances(rf, 'Random Forest Variable Importances for multiclassification  (12,34 and 14 excluded)')"
   ]
  },
  {
   "cell_type": "code",
   "execution_count": null,
   "metadata": {},
   "outputs": [],
   "source": [
    "test_df = test_df[y14 != 14]"
   ]
  },
  {
   "cell_type": "code",
   "execution_count": null,
   "metadata": {},
   "outputs": [],
   "source": [
    "y_rest = rf.predict(test_df.loc[:,test_df.columns != 'okved2'])"
   ]
  },
  {
   "cell_type": "code",
   "execution_count": null,
   "metadata": {},
   "outputs": [],
   "source": [
    "innInfo = pd.read_csv('https://www.dropbox.com/s/5aztgcxa5euubn4/inn_info_public.csv?dl=1')\n",
    "\n",
    "innInfo = innInfo.sort_values(by = \"hash_inn\")\n",
    "\n",
    "innInfo = innInfo[innInfo['okved2'] != 12]\n",
    "innInfo = innInfo[innInfo['okved2'] != 34]\n",
    "innInfo = innInfo[innInfo['okved2'] != 14]\n",
    "\n",
    "innInfo = innInfo[innInfo['okved2'] == -1]\n",
    "\n",
    "innInfo = innInfo[y12 != 12]\n",
    "innInfo = innInfo[y34 != 34]\n",
    "innInfo = innInfo[y14 != 14]"
   ]
  },
  {
   "cell_type": "code",
   "execution_count": null,
   "metadata": {},
   "outputs": [],
   "source": [
    "outputDataRest = pd.DataFrame({'inn' : innInfo['hash_inn'], \n",
    "              'okved2': y_rest}\n",
    "            )\n",
    "outputDataRest.head()"
   ]
  },
  {
   "cell_type": "code",
   "execution_count": null,
   "metadata": {},
   "outputs": [],
   "source": [
    "# удаление строк с классом -2 и группировка датасета\n",
    "outputData = outputData[outputData['okved2'] != -2]\n",
    "outputData2 = outputData2[outputData2['okved2'] != -2]\n",
    "outputData3 = outputData3[outputData3['okved2'] != -2]\n",
    "\n",
    "submission_file = pd.concat([outputData, outputData2, outputData3, outputDataRest])\n",
    "submission_file.sort_values(by='inn', inplace=True)\n",
    "submission_file.set_index('inn', inplace=True)\n",
    "\n",
    "submission_file.head()"
   ]
  },
  {
   "cell_type": "code",
   "execution_count": null,
   "metadata": {},
   "outputs": [],
   "source": [
    "submission_file.to_csv('EduardKustov-29032018-SberbankIndustry.csv')"
   ]
  },
  {
   "cell_type": "markdown",
   "metadata": {},
   "source": [
    "# Общая accuracy 36%"
   ]
  },
  {
   "cell_type": "markdown",
   "metadata": {},
   "source": [
    "Согласно п. 5 алгоритма бинарной классификации `приблизительная` точность (`accuracy`) модели является взвешенная сумма по вышеприведенным моделям, где весом является удельный размер класса во всей выборке"
   ]
  },
  {
   "cell_type": "code",
   "execution_count": null,
   "metadata": {},
   "outputs": [],
   "source": [
    "train_df['okved2'].value_counts()[12]"
   ]
  },
  {
   "cell_type": "code",
   "execution_count": null,
   "metadata": {},
   "outputs": [],
   "source": [
    "weight12 = train_df['okved2'].value_counts()[12]/train_df['okved2'].value_counts().sum()\n",
    "#weight34 = train_df['okved2'].value_counts()[34]/train_df['okved2'].value_counts().sum()\n",
    "#weight14 = train_df['okved2'].value_counts()[14]/train_df['okved2'].value_counts().sum()\n",
    "#weight_rest = (train_df['okved2'].value_counts().sum() - weight12 - weight34 - weight14)/train_df['okved2'].value_counts().sum()"
   ]
  },
  {
   "cell_type": "code",
   "execution_count": null,
   "metadata": {},
   "outputs": [],
   "source": [
    "Accuracy = accuracy12*weight12 + weight34*weight34 + weight14*weight14 + accuracy_rest*weight_rest\n",
    "Accuracy"
   ]
  },
  {
   "cell_type": "code",
   "execution_count": null,
   "metadata": {
    "scrolled": true
   },
   "outputs": [],
   "source": [
    "0.686*(45/161)+0.87*(13.5/161)+0.88*(10/161)+0.08*(93/161)"
   ]
  },
  {
   "cell_type": "code",
   "execution_count": null,
   "metadata": {},
   "outputs": [],
   "source": [
    "Y_PRED = np.concatenate([a, b, c])"
   ]
  },
  {
   "cell_type": "code",
   "execution_count": null,
   "metadata": {},
   "outputs": [],
   "source": [
    "Y_TEST = np.concatenate([A, B, C])"
   ]
  },
  {
   "cell_type": "code",
   "execution_count": null,
   "metadata": {},
   "outputs": [],
   "source": [
    "accuracy_score(Y_TEST, Y_PRED)"
   ]
  },
  {
   "cell_type": "code",
   "execution_count": null,
   "metadata": {},
   "outputs": [],
   "source": []
  }
 ],
 "metadata": {
  "kernelspec": {
   "display_name": "Python 3",
   "language": "python",
   "name": "python3"
  },
  "language_info": {
   "codemirror_mode": {
    "name": "ipython",
    "version": 3
   },
   "file_extension": ".py",
   "mimetype": "text/x-python",
   "name": "python",
   "nbconvert_exporter": "python",
   "pygments_lexer": "ipython3",
   "version": "3.5.4"
  }
 },
 "nbformat": 4,
 "nbformat_minor": 2
}
