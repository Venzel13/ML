{
 "cells": [
  {
   "cell_type": "markdown",
   "metadata": {
    "collapsed": true
   },
   "source": [
    "# Upsale"
   ]
  },
  {
   "cell_type": "markdown",
   "metadata": {},
   "source": [
    "The issue consist of predicting a certain type of package for Sberbank clients based on a few dozen features."
   ]
  },
  {
   "cell_type": "markdown",
   "metadata": {},
   "source": [
    "There are 5 possible packages\n",
    "1. `ЛЕГКИЙ СТАРТ` (free)\n",
    "2. `УДАЧНЫЙ СЕЗОН` (paid)\n",
    "3. `ХОРОШАЯ ВЫРУЧКА` (paid)\n",
    "4. `АКТИВНЫЕ РАСЧЕТЫ` (paid)\n",
    "5. `БОЛЬШИЕ ВОЗМОЖНОСТИ` (paid)"
   ]
  },
  {
   "cell_type": "markdown",
   "metadata": {},
   "source": [
    "We are interested in suggesting only paid packages, so the training set will include from 2 to 5 packages and test set contains `ЛЕГКИЙ СТАРТ` only"
   ]
  },
  {
   "cell_type": "code",
   "execution_count": 1,
   "metadata": {
    "collapsed": true
   },
   "outputs": [],
   "source": [
    "import numpy as np\n",
    "import pandas as pd\n",
    "import matplotlib.pyplot as plt\n",
    "import seaborn as sns\n",
    "import re\n",
    "import datetime\n",
    "from sklearn.model_selection import train_test_split, GridSearchCV, learning_curve, validation_curve\n",
    "from sklearn.preprocessing import StandardScaler, LabelEncoder\n",
    "from sklearn.linear_model import LogisticRegression\n",
    "from sklearn.metrics import accuracy_score, confusion_matrix, f1_score\n",
    "from sklearn.tree import DecisionTreeClassifier\n",
    "from sklearn.neighbors import KNeighborsClassifier\n",
    "from sklearn.preprocessing import PolynomialFeatures\n",
    "from sklearn.ensemble import RandomForestClassifier, GradientBoostingClassifier\n",
    "from catboost import CatBoostClassifier, Pool\n",
    "from sklearn.utils.class_weight import compute_class_weight\n",
    "import ipywidgets\n",
    "\n",
    "%matplotlib inline"
   ]
  },
  {
   "cell_type": "code",
   "execution_count": 2,
   "metadata": {
    "collapsed": true
   },
   "outputs": [],
   "source": [
    "pd.set_option('display.max_columns', 37)\n",
    "pd.set_option('display.max_rows', 100)"
   ]
  },
  {
   "cell_type": "markdown",
   "metadata": {},
   "source": [
    "The content contains 2 paragraphs:\n",
    "1. Feature Engineering (download and preparation data from different sources such as ISKRA and SAS for the next analysis)\n",
    "2. Data preprocessing and Machine Learning"
   ]
  },
  {
   "cell_type": "markdown",
   "metadata": {},
   "source": [
    "## 1. Feature Engineering"
   ]
  },
  {
   "cell_type": "markdown",
   "metadata": {},
   "source": [
    "### 1.1. ISKRA"
   ]
  },
  {
   "cell_type": "markdown",
   "metadata": {},
   "source": [
    "#### 1.1.1. main_vitr"
   ]
  },
  {
   "cell_type": "markdown",
   "metadata": {},
   "source": [
    "Data contains type of package for each account of the client"
   ]
  },
  {
   "cell_type": "code",
   "execution_count": null,
   "metadata": {
    "collapsed": true
   },
   "outputs": [],
   "source": [
    "main_vitr = pd.read_csv('./data/main_vitrina', sep=';', encoding='cp1251', usecols=['TB', 'GOSB', 'INN', 'ACC',\n",
    "                        'DATE_OPEN', 'C_NAME', 'DATE_BEGIN'])\n",
    "main_vitr.drop_duplicates(inplace=True)"
   ]
  },
  {
   "cell_type": "markdown",
   "metadata": {},
   "source": [
    "This TB should be ommited due to their closure"
   ]
  },
  {
   "cell_type": "code",
   "execution_count": null,
   "metadata": {
    "collapsed": true
   },
   "outputs": [],
   "source": [
    "main_vitr = main_vitr[~main_vitr['TB'].isin(['Западно-Уральский банк', 'Северный банк'])]"
   ]
  },
  {
   "cell_type": "markdown",
   "metadata": {},
   "source": [
    "There should be only 5 packages which emerge since October 2017"
   ]
  },
  {
   "cell_type": "code",
   "execution_count": null,
   "metadata": {
    "collapsed": true
   },
   "outputs": [],
   "source": [
    "main_vitr = main_vitr[main_vitr['C_NAME'].isin(['ЛЕГКИЙ СТАРТ', 'ХОРОШАЯ ВЫРУЧКА', 'УДАЧНЫЙ СЕЗОН',\n",
    "                                                'БОЛЬШИЕ ВОЗМОЖНОСТИ', 'АКТИВНЫЕ РАСЧЕТЫ',\n",
    "                                                'НЕ ИСПОЛЬЗОВАТЬ_БОЛЬШИЕ ВОЗМОЖНОСТИ_ПОСЛЕ 01.08.18'])]\n",
    "main_vitr.loc[main_vitr['C_NAME'] == 'НЕ ИСПОЛЬЗОВАТЬ_БОЛЬШИЕ ВОЗМОЖНОСТИ_ПОСЛЕ 01.08.18',\n",
    "              'C_NAME'] = 'БОЛЬШИЕ ВОЗМОЖНОСТИ'\n",
    "main_vitr.rename(columns={'C_NAME': 'PACKAGE'}, inplace=True)"
   ]
  },
  {
   "cell_type": "markdown",
   "metadata": {},
   "source": [
    "We are interested in only accounts which belong to commercial organizations and individual enterpreneurs"
   ]
  },
  {
   "cell_type": "code",
   "execution_count": null,
   "metadata": {
    "collapsed": true
   },
   "outputs": [],
   "source": [
    "main_vitr['INN'] = main_vitr['INN'].astype('str')\n",
    "main_vitr = main_vitr[main_vitr['INN'].str.contains('^\\d{10,}')]\n",
    "main_vitr = main_vitr[main_vitr['ACC'].str.contains('^40[78]02.*')]"
   ]
  },
  {
   "cell_type": "markdown",
   "metadata": {},
   "source": [
    "Restrict the date to 2017 and 2018 years and transform the date to the account age"
   ]
  },
  {
   "cell_type": "code",
   "execution_count": null,
   "metadata": {
    "collapsed": true
   },
   "outputs": [],
   "source": [
    "main_vitr.loc[main_vitr['DATE_BEGIN'].isnull(),\n",
    "              'DATE_BEGIN'] = main_vitr.loc[main_vitr['DATE_BEGIN'].isnull(), 'DATE_OPEN']\n",
    "main_vitr['DATE_BEGIN'] = pd.to_datetime(main_vitr['DATE_BEGIN'])\n",
    "main_vitr['DATE_OPEN'] = pd.to_datetime(main_vitr['DATE_OPEN'])\n",
    "\n",
    "main_vitr = main_vitr[(main_vitr['DATE_BEGIN'] >= '2017-01-01') & (main_vitr['DATE_BEGIN'] <= pd.Timestamp('now'))]\n",
    "main_vitr = main_vitr[main_vitr['DATE_OPEN'] <= '2018-10-30']\n",
    "main_vitr['ACC_AGE'] = (pd.Timestamp('now') - main_vitr['DATE_OPEN']).dt.days\n",
    "main_vitr.drop('DATE_OPEN', axis=1, inplace=True)\n",
    "\n",
    "main_vitr.dropna(inplace=True)"
   ]
  },
  {
   "cell_type": "code",
   "execution_count": null,
   "metadata": {
    "collapsed": true
   },
   "outputs": [],
   "source": [
    "main_vitr['INN'] = main_vitr['INN'].astype('int64')\n",
    "main_vitr['ACC'] = main_vitr['ACC'].astype('float32')"
   ]
  },
  {
   "cell_type": "markdown",
   "metadata": {},
   "source": [
    "Group by INN and ACC and sort the date to ascending so as to find the last package"
   ]
  },
  {
   "cell_type": "code",
   "execution_count": null,
   "metadata": {
    "collapsed": true
   },
   "outputs": [],
   "source": [
    "main_vitr.sort_values(by=['INN', 'ACC', 'DATE_BEGIN'], inplace=True)\n",
    "\n",
    "main_vitr = main_vitr.groupby(by=('INN', 'ACC'), as_index=False, sort=True).agg({'PACKAGE': ('last', 'count'),\n",
    "                                                                                 'TB': 'first',\n",
    "                                                                                 'GOSB': 'first',\n",
    "                                                                                 'ACC_AGE': 'first'})"
   ]
  },
  {
   "cell_type": "code",
   "execution_count": null,
   "metadata": {
    "collapsed": true
   },
   "outputs": [],
   "source": [
    "main_vitr.columns = ['INN', 'ACC', 'TB', 'LAST_PACKAGE', 'PACK_QTY', 'GOSB', 'ACC_AGE']"
   ]
  },
  {
   "cell_type": "markdown",
   "metadata": {},
   "source": [
    "save to `.csv`"
   ]
  },
  {
   "cell_type": "code",
   "execution_count": null,
   "metadata": {
    "collapsed": true
   },
   "outputs": [],
   "source": [
    "main_vitr.to_csv('data/transformed/main_vitr.csv', index=False)"
   ]
  },
  {
   "cell_type": "code",
   "execution_count": 3,
   "metadata": {},
   "outputs": [
    {
     "data": {
      "text/html": [
       "<div>\n",
       "<style>\n",
       "    .dataframe thead tr:only-child th {\n",
       "        text-align: right;\n",
       "    }\n",
       "\n",
       "    .dataframe thead th {\n",
       "        text-align: left;\n",
       "    }\n",
       "\n",
       "    .dataframe tbody tr th {\n",
       "        vertical-align: top;\n",
       "    }\n",
       "</style>\n",
       "<table border=\"1\" class=\"dataframe\">\n",
       "  <thead>\n",
       "    <tr style=\"text-align: right;\">\n",
       "      <th></th>\n",
       "      <th>INN</th>\n",
       "      <th>ACC</th>\n",
       "      <th>LAST_PACKAGE</th>\n",
       "      <th>PACK_QTY</th>\n",
       "      <th>TB</th>\n",
       "      <th>GOSB</th>\n",
       "      <th>ACC_AGE</th>\n",
       "    </tr>\n",
       "  </thead>\n",
       "  <tbody>\n",
       "    <tr>\n",
       "      <th>6291</th>\n",
       "      <td>120700104297</td>\n",
       "      <td>40802810337000002690</td>\n",
       "      <td>ЛЕГКИЙ СТАРТ</td>\n",
       "      <td>1</td>\n",
       "      <td>Волго-Вятский банк</td>\n",
       "      <td>8614.0</td>\n",
       "      <td>441</td>\n",
       "    </tr>\n",
       "    <tr>\n",
       "      <th>448079</th>\n",
       "      <td>650100185723</td>\n",
       "      <td>40802810550340003902</td>\n",
       "      <td>АКТИВНЫЕ РАСЧЕТЫ</td>\n",
       "      <td>1</td>\n",
       "      <td>Дальневосточный банк</td>\n",
       "      <td>8567.0</td>\n",
       "      <td>540</td>\n",
       "    </tr>\n",
       "    <tr>\n",
       "      <th>504840</th>\n",
       "      <td>711871233713</td>\n",
       "      <td>40802810466000010882</td>\n",
       "      <td>ХОРОШАЯ ВЫРУЧКА</td>\n",
       "      <td>1</td>\n",
       "      <td>Среднерусский банк</td>\n",
       "      <td>8604.0</td>\n",
       "      <td>48</td>\n",
       "    </tr>\n",
       "  </tbody>\n",
       "</table>\n",
       "</div>"
      ],
      "text/plain": [
       "                 INN                   ACC      LAST_PACKAGE  PACK_QTY  \\\n",
       "6291    120700104297  40802810337000002690      ЛЕГКИЙ СТАРТ         1   \n",
       "448079  650100185723  40802810550340003902  АКТИВНЫЕ РАСЧЕТЫ         1   \n",
       "504840  711871233713  40802810466000010882   ХОРОШАЯ ВЫРУЧКА         1   \n",
       "\n",
       "                          TB    GOSB  ACC_AGE  \n",
       "6291      Волго-Вятский банк  8614.0      441  \n",
       "448079  Дальневосточный банк  8567.0      540  \n",
       "504840    Среднерусский банк  8604.0       48  "
      ]
     },
     "execution_count": 3,
     "metadata": {},
     "output_type": "execute_result"
    }
   ],
   "source": [
    "pd.read_csv('data/transformed/main_vitr.csv').sample(3)"
   ]
  },
  {
   "cell_type": "markdown",
   "metadata": {},
   "source": [
    "#### cooperation"
   ]
  },
  {
   "cell_type": "markdown",
   "metadata": {},
   "source": [
    "Data contains a quantity of the product for each INN. There are also few binary variables represent whether the certain client has kredit, overdraft, zarplat project or acquirung"
   ]
  },
  {
   "cell_type": "code",
   "execution_count": null,
   "metadata": {
    "collapsed": true
   },
   "outputs": [],
   "source": [
    "cooperation = pd.read_csv('data/COOPERATION.dsv', sep=';', encoding='cp1251', usecols=['STATUS', 'ITOG', 'INN',\n",
    "                          'DATE_LOAD', 'OBOROT_KREDIT', 'OVERDRAFT_KREDIT', 'ZARPLAT_PROJECTS', 'ACQUIRING_MOBILE'])\n",
    "cooperation.drop_duplicates(inplace=True)"
   ]
  },
  {
   "cell_type": "code",
   "execution_count": null,
   "metadata": {
    "collapsed": true
   },
   "outputs": [],
   "source": [
    "cooperation = cooperation[cooperation['STATUS'].isin(['Активна', 'Закреплена'])]\n",
    "cooperation.drop('STATUS', axis=1, inplace=True)\n",
    "cooperation.rename(columns={'ITOG': 'PRODUCT_QTY'}, inplace=True)\n",
    "cooperation.fillna(0, inplace=True)"
   ]
  },
  {
   "cell_type": "code",
   "execution_count": null,
   "metadata": {
    "collapsed": true
   },
   "outputs": [],
   "source": [
    "cooperation['INN'] = cooperation['INN'].astype('str')\n",
    "cooperation = cooperation[cooperation['INN'].str.contains('^\\d{10,}')]"
   ]
  },
  {
   "cell_type": "code",
   "execution_count": null,
   "metadata": {
    "collapsed": true
   },
   "outputs": [],
   "source": [
    "cooperation = cooperation[cooperation['OBOROT_KREDIT'] != '0,001'].astype('int64')\n",
    "cooperation = cooperation[cooperation['OVERDRAFT_KREDIT'] != '0,001'].astype('int64')\n",
    "cooperation = cooperation[cooperation['ZARPLAT_PROJECTS'] != '0,001'].astype('int64')\n",
    "cooperation['ACQUIRING_MOBILE'] = cooperation['ACQUIRING_MOBILE'].astype('int64')\n",
    "cooperation = cooperation[cooperation['OBOROT_KREDIT'] != 2]"
   ]
  },
  {
   "cell_type": "code",
   "execution_count": null,
   "metadata": {
    "collapsed": true
   },
   "outputs": [],
   "source": [
    "%%time\n",
    "cooperation['DATE_LOAD'] = pd.to_datetime(cooperation['DATE_LOAD'], infer_datetime_format=True)"
   ]
  },
  {
   "cell_type": "code",
   "execution_count": null,
   "metadata": {
    "collapsed": true
   },
   "outputs": [],
   "source": [
    "cooperation.sort_values(by=['INN', 'DATE_LOAD'], inplace=True)\n",
    "cooperation = cooperation.groupby(by='INN', as_index=False, sort=True).agg({'PRODUCT_QTY': 'last',\n",
    "                                                                            'OBOROT_KREDIT': 'max',\n",
    "                                                                            'OVERDRAFT_KREDIT': 'max',\n",
    "                                                                            'ZARPLAT_PROJECTS': 'max',\n",
    "                                                                            'ACQUIRING_MOBILE': 'max'})"
   ]
  },
  {
   "cell_type": "markdown",
   "metadata": {},
   "source": [
    "save to `.csv`"
   ]
  },
  {
   "cell_type": "code",
   "execution_count": null,
   "metadata": {
    "collapsed": true
   },
   "outputs": [],
   "source": [
    "cooperation.to_csv('data/transformed/cooperation.csv', index=False)"
   ]
  },
  {
   "cell_type": "code",
   "execution_count": 4,
   "metadata": {},
   "outputs": [
    {
     "data": {
      "text/html": [
       "<div>\n",
       "<style>\n",
       "    .dataframe thead tr:only-child th {\n",
       "        text-align: right;\n",
       "    }\n",
       "\n",
       "    .dataframe thead th {\n",
       "        text-align: left;\n",
       "    }\n",
       "\n",
       "    .dataframe tbody tr th {\n",
       "        vertical-align: top;\n",
       "    }\n",
       "</style>\n",
       "<table border=\"1\" class=\"dataframe\">\n",
       "  <thead>\n",
       "    <tr style=\"text-align: right;\">\n",
       "      <th></th>\n",
       "      <th>INN</th>\n",
       "      <th>OBOROT_KREDIT</th>\n",
       "      <th>ZARPLAT_PROJECTS</th>\n",
       "      <th>OVERDRAFT_KREDIT</th>\n",
       "      <th>ACQUIRING_MOBILE</th>\n",
       "      <th>PRODUCT_QTY</th>\n",
       "    </tr>\n",
       "  </thead>\n",
       "  <tbody>\n",
       "    <tr>\n",
       "      <th>466387</th>\n",
       "      <td>2.625118e+11</td>\n",
       "      <td>0</td>\n",
       "      <td>0</td>\n",
       "      <td>0</td>\n",
       "      <td>0</td>\n",
       "      <td>3</td>\n",
       "    </tr>\n",
       "    <tr>\n",
       "      <th>1499033</th>\n",
       "      <td>6.126031e+11</td>\n",
       "      <td>0</td>\n",
       "      <td>0</td>\n",
       "      <td>0</td>\n",
       "      <td>0</td>\n",
       "      <td>3</td>\n",
       "    </tr>\n",
       "    <tr>\n",
       "      <th>86231</th>\n",
       "      <td>1.510010e+11</td>\n",
       "      <td>0</td>\n",
       "      <td>1</td>\n",
       "      <td>0</td>\n",
       "      <td>0</td>\n",
       "      <td>4</td>\n",
       "    </tr>\n",
       "  </tbody>\n",
       "</table>\n",
       "</div>"
      ],
      "text/plain": [
       "                  INN  OBOROT_KREDIT  ZARPLAT_PROJECTS  OVERDRAFT_KREDIT  \\\n",
       "466387   2.625118e+11              0                 0                 0   \n",
       "1499033  6.126031e+11              0                 0                 0   \n",
       "86231    1.510010e+11              0                 1                 0   \n",
       "\n",
       "         ACQUIRING_MOBILE  PRODUCT_QTY  \n",
       "466387                  0            3  \n",
       "1499033                 0            3  \n",
       "86231                   0            4  "
      ]
     },
     "execution_count": 4,
     "metadata": {},
     "output_type": "execute_result"
    }
   ],
   "source": [
    "pd.read_csv('data/transformed/cooperation.csv').sample(3)"
   ]
  },
  {
   "cell_type": "markdown",
   "metadata": {},
   "source": [
    "#### atb_ko"
   ]
  },
  {
   "cell_type": "markdown",
   "metadata": {},
   "source": [
    "Data contains operation sum, channel and type of the operation"
   ]
  },
  {
   "cell_type": "code",
   "execution_count": null,
   "metadata": {
    "collapsed": true
   },
   "outputs": [],
   "source": [
    "atb_ko = pd.read_csv('/home/dushina1-ya/upsale/ATB_KO', sep=';', encoding='cp1251', usecols=['INN', 'ACC', 'DATA_OP',\n",
    "                     'SUMMA_OP', 'CHANNEL', 'TYPE_OPER'])\n",
    "atb_ko.drop_duplicates(inplace=True)\n",
    "\n",
    "atb_ko.dropna(inplace=True)"
   ]
  },
  {
   "cell_type": "code",
   "execution_count": null,
   "metadata": {
    "collapsed": true
   },
   "outputs": [],
   "source": [
    "atb_ko = atb_ko[atb_ko['ACC'].str.contains('^40[78]02.*')]\n",
    "atb_ko['INN'] = atb_ko['INN'].astype('str')\n",
    "atb_ko = atb_ko[atb_ko['INN'].str.contains('^\\d{10,}')]"
   ]
  },
  {
   "cell_type": "code",
   "execution_count": null,
   "metadata": {
    "collapsed": true
   },
   "outputs": [],
   "source": [
    "def comma_to_dot(x):   \n",
    "    return float(re.sub(',', '.', str(x)))"
   ]
  },
  {
   "cell_type": "code",
   "execution_count": null,
   "metadata": {
    "collapsed": true
   },
   "outputs": [],
   "source": [
    "atb_ko['SUMMA_OP'] = atb_ko['SUMMA_OP'].apply(comma_to_dot)"
   ]
  },
  {
   "cell_type": "code",
   "execution_count": null,
   "metadata": {
    "collapsed": true
   },
   "outputs": [],
   "source": [
    "atb_ko['PAYOUT_VSP'] = float('NaN')\n",
    "atb_ko['PAYOUT_UKO'] = float('NaN')\n",
    "atb_ko['PAYIN_VSP'] = float('NaN')\n",
    "atb_ko['PAYIN_UKO'] = float('NaN')\n",
    "\n",
    "atb_ko.loc[(atb_ko['CHANNEL'] == 'УКО') & (atb_ko['TYPE_OPER'] == 'Выдача'), 'PAYOUT_UKO'] = atb_ko.loc[(\n",
    "    atb_ko['CHANNEL'] == 'УКО') & (atb_ko['TYPE_OPER'] == 'Выдача'), 'SUMMA_OP']\n",
    "\n",
    "atb_ko.loc[(atb_ko['CHANNEL'] == 'УКО') & (atb_ko['TYPE_OPER'] == 'Взнос'), 'PAYIN_UKO'] = atb_ko.loc[(\n",
    "    atb_ko['CHANNEL'] == 'УКО') & (atb_ko['TYPE_OPER'] == 'Взнос'), 'SUMMA_OP']\n",
    "\n",
    "atb_ko.loc[(atb_ko['CHANNEL'] == 'ВСП') & (atb_ko['TYPE_OPER'] == 'Взнос'), 'PAYIN_VSP'] = atb_ko.loc[(\n",
    "    atb_ko['CHANNEL'] == 'ВСП') & (atb_ko['TYPE_OPER'] == 'Взнос'), 'SUMMA_OP']\n",
    "\n",
    "atb_ko.loc[(atb_ko['CHANNEL'] == 'ВСП') & (atb_ko['TYPE_OPER'] == 'Выдача'), 'PAYOUT_VSP'] = atb_ko.loc[(\n",
    "    atb_ko['CHANNEL'] == 'ВСП') & (atb_ko['TYPE_OPER'] == 'Выдача'), 'SUMMA_OP']"
   ]
  },
  {
   "cell_type": "code",
   "execution_count": null,
   "metadata": {
    "collapsed": true
   },
   "outputs": [],
   "source": [
    "atb_ko.drop(['DATA_OP', 'SUMMA_OP', 'CHANNEL', 'TYPE_OPER'], axis=1, inplace=True)"
   ]
  },
  {
   "cell_type": "code",
   "execution_count": null,
   "metadata": {
    "collapsed": true
   },
   "outputs": [],
   "source": [
    "atb_ko = atb_ko.groupby(by=('INN', 'ACC'), as_index=False).agg({'PAYOUT_VSP': ('sum', 'count'),\n",
    "                                                                'PAYIN_VSP': ('sum', 'count'),\n",
    "                                                                'PAYOUT_UKO': ('sum', 'count'),\n",
    "                                                                'PAYIN_UKO': ('sum', 'count')})"
   ]
  },
  {
   "cell_type": "code",
   "execution_count": null,
   "metadata": {
    "collapsed": true
   },
   "outputs": [],
   "source": [
    "atb_ko.fillna(0, inplace=True)"
   ]
  },
  {
   "cell_type": "code",
   "execution_count": null,
   "metadata": {
    "collapsed": true
   },
   "outputs": [],
   "source": [
    "# be careful of ordering\n",
    "atb_ko.columns = ['INN', 'ACC', 'SUM_PAYIN_VSP', 'COUNT_PAYIN_VSP', 'SUM_PAYOUT_VSP', 'COUNT_PAYOUT_VSP', \n",
    "                  'SUM_PAYOUT_UKO', 'COUNT_PAYOUT_UKO', 'SUM_PAYIN_UKO', 'COUNT_PAYIN_UKO']"
   ]
  },
  {
   "cell_type": "code",
   "execution_count": null,
   "metadata": {
    "collapsed": true
   },
   "outputs": [],
   "source": [
    "atb_ko.drop_duplicates(['ACC'], inplace=True)"
   ]
  },
  {
   "cell_type": "markdown",
   "metadata": {},
   "source": [
    "save to `.csv`"
   ]
  },
  {
   "cell_type": "code",
   "execution_count": null,
   "metadata": {
    "collapsed": true
   },
   "outputs": [],
   "source": [
    "atb_ko.to_csv('data/transformed/atb_ko.csv', index=False)"
   ]
  },
  {
   "cell_type": "code",
   "execution_count": 5,
   "metadata": {},
   "outputs": [
    {
     "data": {
      "text/html": [
       "<div>\n",
       "<style>\n",
       "    .dataframe thead tr:only-child th {\n",
       "        text-align: right;\n",
       "    }\n",
       "\n",
       "    .dataframe thead th {\n",
       "        text-align: left;\n",
       "    }\n",
       "\n",
       "    .dataframe tbody tr th {\n",
       "        vertical-align: top;\n",
       "    }\n",
       "</style>\n",
       "<table border=\"1\" class=\"dataframe\">\n",
       "  <thead>\n",
       "    <tr style=\"text-align: right;\">\n",
       "      <th></th>\n",
       "      <th>INN</th>\n",
       "      <th>ACC</th>\n",
       "      <th>SUM_PAYIN_VSP</th>\n",
       "      <th>COUNT_PAYIN_VSP</th>\n",
       "      <th>SUM_PAYOUT_VSP</th>\n",
       "      <th>COUNT_PAYOUT_VSP</th>\n",
       "      <th>SUM_PAYOUT_UKO</th>\n",
       "      <th>COUNT_PAYOUT_UKO</th>\n",
       "      <th>SUM_PAYIN_UKO</th>\n",
       "      <th>COUNT_PAYIN_UKO</th>\n",
       "    </tr>\n",
       "  </thead>\n",
       "  <tbody>\n",
       "    <tr>\n",
       "      <th>503109</th>\n",
       "      <td>5.257145e+09</td>\n",
       "      <td>40702810942000006978</td>\n",
       "      <td>0.0</td>\n",
       "      <td>0</td>\n",
       "      <td>0.0</td>\n",
       "      <td>0</td>\n",
       "      <td>588635.05</td>\n",
       "      <td>51</td>\n",
       "      <td>1106400.0</td>\n",
       "      <td>17</td>\n",
       "    </tr>\n",
       "    <tr>\n",
       "      <th>755919</th>\n",
       "      <td>7.204137e+11</td>\n",
       "      <td>40802810267100005044</td>\n",
       "      <td>0.0</td>\n",
       "      <td>0</td>\n",
       "      <td>0.0</td>\n",
       "      <td>0</td>\n",
       "      <td>167100.00</td>\n",
       "      <td>14</td>\n",
       "      <td>57500.0</td>\n",
       "      <td>6</td>\n",
       "    </tr>\n",
       "    <tr>\n",
       "      <th>213737</th>\n",
       "      <td>2.704013e+11</td>\n",
       "      <td>40802810670000010225</td>\n",
       "      <td>0.0</td>\n",
       "      <td>0</td>\n",
       "      <td>0.0</td>\n",
       "      <td>0</td>\n",
       "      <td>0.00</td>\n",
       "      <td>0</td>\n",
       "      <td>1000.0</td>\n",
       "      <td>1</td>\n",
       "    </tr>\n",
       "  </tbody>\n",
       "</table>\n",
       "</div>"
      ],
      "text/plain": [
       "                 INN                   ACC  SUM_PAYIN_VSP  COUNT_PAYIN_VSP  \\\n",
       "503109  5.257145e+09  40702810942000006978            0.0                0   \n",
       "755919  7.204137e+11  40802810267100005044            0.0                0   \n",
       "213737  2.704013e+11  40802810670000010225            0.0                0   \n",
       "\n",
       "        SUM_PAYOUT_VSP  COUNT_PAYOUT_VSP  SUM_PAYOUT_UKO  COUNT_PAYOUT_UKO  \\\n",
       "503109             0.0                 0       588635.05                51   \n",
       "755919             0.0                 0       167100.00                14   \n",
       "213737             0.0                 0            0.00                 0   \n",
       "\n",
       "        SUM_PAYIN_UKO  COUNT_PAYIN_UKO  \n",
       "503109      1106400.0               17  \n",
       "755919        57500.0                6  \n",
       "213737         1000.0                1  "
      ]
     },
     "execution_count": 5,
     "metadata": {},
     "output_type": "execute_result"
    }
   ],
   "source": [
    "pd.read_csv('data/transformed/atb_ko.csv').sample(3)"
   ]
  },
  {
   "cell_type": "markdown",
   "metadata": {},
   "source": [
    "#### CF"
   ]
  },
  {
   "cell_type": "markdown",
   "metadata": {},
   "source": [
    "Data contains information about a bank of the client and quantity of incoming, ungoing and self payments"
   ]
  },
  {
   "cell_type": "code",
   "execution_count": null,
   "metadata": {
    "collapsed": true
   },
   "outputs": [],
   "source": [
    "CF = pd.read_csv('./data/CASHHHFLOWW.dsv', sep=';', encoding='cp1251', usecols=['INN', 'BANK_CL', 'SUM_ISHOD',\n",
    "                                                                                'CNT_ISHOD', 'SUM_ISHOD_SELF',\n",
    "                                                                                'CNT_ISHOD_SELF'])"
   ]
  },
  {
   "cell_type": "code",
   "execution_count": null,
   "metadata": {
    "collapsed": true
   },
   "outputs": [],
   "source": [
    "CF.loc[CF['BANK_CL'] != 'ПАО СБЕРБАНК', 'BANK_CL'] = 'ДРУГИЕ БАНКИ'"
   ]
  },
  {
   "cell_type": "code",
   "execution_count": null,
   "metadata": {
    "collapsed": true
   },
   "outputs": [],
   "source": [
    "CF['INN'] = CF['INN'].astype('str')\n",
    "CF = CF[CF['INN'].str.contains('^\\d{10,}')]"
   ]
  },
  {
   "cell_type": "code",
   "execution_count": null,
   "metadata": {
    "collapsed": true
   },
   "outputs": [],
   "source": [
    "CF['SUM_ISHOD'] = CF['SUM_ISHOD'].apply(comma_to_dot)\n",
    "CF['SUM_ISHOD_SELF'] = CF['SUM_ISHOD_SELF'].apply(comma_to_dot)"
   ]
  },
  {
   "cell_type": "code",
   "execution_count": null,
   "metadata": {
    "collapsed": true
   },
   "outputs": [],
   "source": [
    "CF.to_csv('ASHOT.csv', index=False)"
   ]
  },
  {
   "cell_type": "code",
   "execution_count": null,
   "metadata": {
    "collapsed": true
   },
   "outputs": [],
   "source": [
    "CF['SBER_SUM_ISHOD'] = 0\n",
    "CF['SBER_QTY_ISHOD'] = 0\n",
    "CF['OTHER_SUM_ISHOD'] = 0\n",
    "CF['OTHER_QTY_ISHOD'] = 0\n",
    "CF['SBER_SUM_ISHOD_SELF'] = 0\n",
    "CF['SBER_QTY_ISHOD_SELF'] = 0\n",
    "CF['OTHER_SUM_ISHOD_SELF'] = 0\n",
    "CF['OTHER_QTY_ISHOD_SELF'] = 0\n",
    "CF.loc[(CF['BANK_CL'] == 'ПАО СБЕРБАНК'), 'SBER_SUM_ISHOD'] = CF.loc[(CF['BANK_CL'] == 'ПАО СБЕРБАНК'), 'SUM_ISHOD']\n",
    "CF.loc[(CF['BANK_CL'] == 'ПАО СБЕРБАНК'), 'SBER_QTY_ISHOD'] = CF.loc[(CF['BANK_CL'] == 'ПАО СБЕРБАНК'), 'CNT_ISHOD']\n",
    "CF.loc[(CF['BANK_CL'] == 'ДРУГИЕ БАНКИ'), 'OTHER_SUM_ISHOD'] = CF.loc[(CF['BANK_CL'] == 'ДРУГИЕ БАНКИ'), 'SUM_ISHOD']\n",
    "CF.loc[(CF['BANK_CL'] == 'ДРУГИЕ БАНКИ'), 'OTHER_QTY_ISHOD'] = CF.loc[(CF['BANK_CL'] == 'ДРУГИЕ БАНКИ'), 'CNT_ISHOD']\n",
    "\n",
    "CF.loc[(CF['BANK_CL'] == 'ПАО СБЕРБАНК'), 'SBER_SUM_ISHOD_SELF'] = CF.loc[(CF['BANK_CL'] == 'ПАО СБЕРБАНК'), 'SUM_ISHOD_SELF']\n",
    "CF.loc[(CF['BANK_CL'] == 'ПАО СБЕРБАНК'), 'SBER_QTY_ISHOD_SELF'] = CF.loc[(CF['BANK_CL'] == 'ПАО СБЕРБАНК'), 'CNT_ISHOD_SELF']\n",
    "CF.loc[(CF['BANK_CL'] == 'ДРУГИЕ БАНКИ'), 'OTHER_SUM_ISHOD_SELF'] = CF.loc[(CF['BANK_CL'] == 'ДРУГИЕ БАНКИ'), 'SUM_ISHOD_SELF']\n",
    "CF.loc[(CF['BANK_CL'] == 'ДРУГИЕ БАНКИ'), 'OTHER_QTY_ISHOD_SELF'] = CF.loc[(CF['BANK_CL'] == 'ДРУГИЕ БАНКИ'), 'CNT_ISHOD_SELF']"
   ]
  },
  {
   "cell_type": "code",
   "execution_count": null,
   "metadata": {
    "collapsed": true
   },
   "outputs": [],
   "source": [
    "CF.drop(['BANK_CL', 'SUM_ISHOD', 'CNT_ISHOD', 'SUM_ISHOD_SELF', 'CNT_ISHOD_SELF'], axis=1, inplace=True)"
   ]
  },
  {
   "cell_type": "code",
   "execution_count": null,
   "metadata": {
    "collapsed": true
   },
   "outputs": [],
   "source": [
    "CF = CF.groupby(by='INN', as_index=False).agg({'SBER_SUM_ISHOD': 'sum',\n",
    "                                               'SBER_QTY_ISHOD': 'sum',\n",
    "                                               'OTHER_SUM_ISHOD': 'sum',\n",
    "                                               'OTHER_QTY_ISHOD': 'sum',\n",
    "                                               'SBER_SUM_ISHOD_SELF': 'sum',\n",
    "                                               'SBER_QTY_ISHOD_SELF': 'sum',\n",
    "                                               'OTHER_SUM_ISHOD_SELF': 'sum',\n",
    "                                               'OTHER_QTY_ISHOD_SELF': 'sum'})"
   ]
  },
  {
   "cell_type": "code",
   "execution_count": null,
   "metadata": {
    "collapsed": true
   },
   "outputs": [],
   "source": [
    "CF = CF[~((CF['SBER_QTY_ISHOD'] == 0) & (CF['OTHER_QTY_ISHOD'] == 0)  & (CF['SBER_QTY_ISHOD_SELF'] == 0) & \n",
    "     (CF['OTHER_QTY_ISHOD_SELF'] == 0))]"
   ]
  },
  {
   "cell_type": "markdown",
   "metadata": {},
   "source": [
    "save to `.csv`"
   ]
  },
  {
   "cell_type": "code",
   "execution_count": null,
   "metadata": {
    "collapsed": true
   },
   "outputs": [],
   "source": [
    "CF.to_csv('data/transformed/CF.csv', index=False)"
   ]
  },
  {
   "cell_type": "code",
   "execution_count": 6,
   "metadata": {},
   "outputs": [
    {
     "data": {
      "text/html": [
       "<div>\n",
       "<style>\n",
       "    .dataframe thead tr:only-child th {\n",
       "        text-align: right;\n",
       "    }\n",
       "\n",
       "    .dataframe thead th {\n",
       "        text-align: left;\n",
       "    }\n",
       "\n",
       "    .dataframe tbody tr th {\n",
       "        vertical-align: top;\n",
       "    }\n",
       "</style>\n",
       "<table border=\"1\" class=\"dataframe\">\n",
       "  <thead>\n",
       "    <tr style=\"text-align: right;\">\n",
       "      <th></th>\n",
       "      <th>INN</th>\n",
       "      <th>OTHER_SUM_ISHOD_SELF</th>\n",
       "      <th>SBER_QTY_ISHOD_SELF</th>\n",
       "      <th>SBER_SUM_ISHOD</th>\n",
       "      <th>OTHER_QTY_ISHOD_SELF</th>\n",
       "      <th>OTHER_SUM_ISHOD</th>\n",
       "      <th>SBER_SUM_ISHOD_SELF</th>\n",
       "      <th>SBER_QTY_ISHOD</th>\n",
       "      <th>OTHER_QTY_ISHOD</th>\n",
       "    </tr>\n",
       "  </thead>\n",
       "  <tbody>\n",
       "    <tr>\n",
       "      <th>568429</th>\n",
       "      <td>4414003349</td>\n",
       "      <td>0.0</td>\n",
       "      <td>0</td>\n",
       "      <td>0.00</td>\n",
       "      <td>0</td>\n",
       "      <td>83400.0</td>\n",
       "      <td>0.0</td>\n",
       "      <td>0</td>\n",
       "      <td>5</td>\n",
       "    </tr>\n",
       "    <tr>\n",
       "      <th>647136</th>\n",
       "      <td>502009187777</td>\n",
       "      <td>0.0</td>\n",
       "      <td>0</td>\n",
       "      <td>91040.00</td>\n",
       "      <td>0</td>\n",
       "      <td>0.0</td>\n",
       "      <td>0.0</td>\n",
       "      <td>2</td>\n",
       "      <td>0</td>\n",
       "    </tr>\n",
       "    <tr>\n",
       "      <th>907182</th>\n",
       "      <td>6102064565</td>\n",
       "      <td>0.0</td>\n",
       "      <td>0</td>\n",
       "      <td>4458901.32</td>\n",
       "      <td>0</td>\n",
       "      <td>0.0</td>\n",
       "      <td>0.0</td>\n",
       "      <td>37</td>\n",
       "      <td>0</td>\n",
       "    </tr>\n",
       "  </tbody>\n",
       "</table>\n",
       "</div>"
      ],
      "text/plain": [
       "                 INN  OTHER_SUM_ISHOD_SELF  SBER_QTY_ISHOD_SELF  \\\n",
       "568429    4414003349                   0.0                    0   \n",
       "647136  502009187777                   0.0                    0   \n",
       "907182    6102064565                   0.0                    0   \n",
       "\n",
       "        SBER_SUM_ISHOD  OTHER_QTY_ISHOD_SELF  OTHER_SUM_ISHOD  \\\n",
       "568429            0.00                     0          83400.0   \n",
       "647136        91040.00                     0              0.0   \n",
       "907182      4458901.32                     0              0.0   \n",
       "\n",
       "        SBER_SUM_ISHOD_SELF  SBER_QTY_ISHOD  OTHER_QTY_ISHOD  \n",
       "568429                  0.0               0                5  \n",
       "647136                  0.0               2                0  \n",
       "907182                  0.0              37                0  "
      ]
     },
     "execution_count": 6,
     "metadata": {},
     "output_type": "execute_result"
    }
   ],
   "source": [
    "pd.read_csv('data/transformed/CF.csv').sample(3)"
   ]
  },
  {
   "cell_type": "markdown",
   "metadata": {},
   "source": [
    "### 1.2. Appeals"
   ]
  },
  {
   "cell_type": "markdown",
   "metadata": {},
   "source": [
    "Data contains information about the quantity of negative appeals"
   ]
  },
  {
   "cell_type": "code",
   "execution_count": null,
   "metadata": {
    "collapsed": true
   },
   "outputs": [],
   "source": [
    "oct2017 = pd.read_excel('/home/dushina1-ya/upsale/appeal/Октябрь+2017_.xlsx',\n",
    "                        usecols=['Группа_CRM', 'Тип_CRM', 'Продукт_CRM', 'ИНН'])\n",
    "nov2017 = pd.read_excel('/home/dushina1-ya/upsale/appeal/Ноябрь+2017.xlsx',\n",
    "                        usecols=['Группа_CRM', 'Тип_CRM', 'Продукт_CRM', 'ИНН'])\n",
    "dec2017 = pd.read_excel('/home/dushina1-ya/upsale/appeal/Декабрь+2017.xlsx',\n",
    "                        usecols=['Группа_CRM', 'Тип_CRM', 'Продукт_CRM', 'ИНН'])\n",
    "Jan2018 = pd.read_excel('/home/dushina1-ya/upsale/appeal/Январь+2018.xlsx',\n",
    "                        usecols=['Группа_CRM', 'Тип_CRM', 'Продукт_CRM', 'ИНН'])\n",
    "feb2018 = pd.read_excel('/home/dushina1-ya/upsale/appeal/Февраль+2018.xlsx',\n",
    "                        usecols=['Группа_CRM', 'Тип_CRM', 'Продукт_CRM', 'ИНН'])\n",
    "mar2018 = pd.read_excel('/home/dushina1-ya/upsale/appeal/Март+2018.xlsx',\n",
    "                        usecols=['Группа_CRM', 'Тип_CRM', 'Продукт_CRM', 'ИНН'])\n",
    "apl2018 = pd.read_excel('/home/dushina1-ya/upsale/appeal/Апрель+2018.xlsx',\n",
    "                        usecols=['Группа_CRM', 'Тип_CRM', 'Продукт_CRM', 'ИНН'])\n",
    "may_june2018 = pd.read_excel('/home/dushina1-ya/upsale/appeal/Май-июнь+2018.xlsx',\n",
    "                        usecols=['Группа_CRM', 'Тип_CRM', 'Продукт_CRM', 'ИНН'])\n",
    "jul2018 = pd.read_excel('/home/dushina1-ya/upsale/appeal/Июль+2018.xlsx',\n",
    "                        usecols=['Группа_CRM', 'Тип_CRM', 'Продукт_CRM', 'ИНН'])\n",
    "aug2018 = pd.read_excel('/home/dushina1-ya/upsale/appeal/Август+2018.xlsx',\n",
    "                        usecols=['Группа_CRM', 'Тип_CRM', 'Продукт_CRM', 'ИНН'])\n",
    "sep2018 = pd.read_excel('/home/dushina1-ya/upsale/appeal/Сентябрь+2018.xlsx',\n",
    "                        usecols=['Группа_CRM', 'Тип_CRM', 'Продукт_CRM', 'ИНН'])"
   ]
  },
  {
   "cell_type": "code",
   "execution_count": null,
   "metadata": {
    "collapsed": true
   },
   "outputs": [],
   "source": [
    "appeals = pd.concat([oct2017, nov2017, dec2017, Jan2018, feb2018, mar2018, apl2018, may_june2018, jul2018, aug2018,\n",
    "                     sep2018])\n",
    "\n",
    "appeals = appeals[appeals['Группа_CRM'].isin(['Жалобы', 'Претензии'])]\n",
    "\n",
    "appeals = appeals[appeals['Продукт_CRM'].isin(['Самоинкассация', 'Расчетные услуги корпоративным клиентам',\n",
    "                                               'Дистанционное банковское обслуживание', 'Банковские счета',\n",
    "                                               'Корпоративные карты', 'Проведение платежей ФЛ в пользу ЮЛ',\n",
    "                                               'Бизнес-карта', 'Кассовые услуги корпоративным клиентам',\n",
    "                                               'Кассовые операции с наличными', 'Безналичные операции',\n",
    "                                               'Пакеты услуг'])]\n",
    "appeals = appeals[appeals['Тип_CRM'].isin(\n",
    "                                    ['Несогласие с тарифами / комиссиями по платежам / переводам',\n",
    "                                     'Несогласие с изменением тарифа',\n",
    "                                     'Несогласие с суммой комиссии / неустойки / процентов по операции по карте',\n",
    "                                     'Несогласие с тарифами / комиссиями за обслуживание счета',\n",
    "                                     'Несогласие со списанием / списанной суммой по поручению / документу',\n",
    "                                     'Несогласие с тарифами / комиссиями за открытие счета',\n",
    "                                     'Несогласие с комиссией за годовое обслуживание',\n",
    "                                     'Несогласие с тарифами / комиссиями за использование системы ДБО',\n",
    "                                     'Несогласие с тарифами / комиссиями за обслуживание карты',\n",
    "                                     'Несогласие с условиями предоставления услуги (срок зачисления, сумма комиссии)',\n",
    "                                     'Несогласие с тарифами / комиссиями по платежам ФЛ в адрес ЮЛ',\n",
    "                                     'Несогласие с тарифами / комиссиями за обслуживание',\n",
    "                                     'Сумма по одной операции/покупке/платеже списана дважды и более',\n",
    "                                     'Несогласие с тарифами за услуги/их изменением ПТ/ИП',\n",
    "                                     'Несогласие с комиссией за взнос/выдачу дс по карте',\n",
    "                                     'Взимание комиссии за Пакет услуг (в т.ч. операции в составе Пакета услуг)',\n",
    "                                     'Несогласие с суммой списания комиссии/платы по тарифу ПП',\n",
    "                                     'Несогласие с суммой комиссии за перевод ЮЛ в пользу ФЛ',\n",
    "                                     'Несогласие с тарифами/комиссиями по платежам ФЛ в адрес ЮЛ'])]"
   ]
  },
  {
   "cell_type": "code",
   "execution_count": null,
   "metadata": {
    "collapsed": true
   },
   "outputs": [],
   "source": [
    "appeals = appeals.groupby(by='ИНН', as_index=False).agg({'Тип_CRM': 'count'}).rename(\n",
    "                                                                    columns={'ИНН': 'INN', 'Тип_CRM': 'APPEALS_QTY'})"
   ]
  },
  {
   "cell_type": "markdown",
   "metadata": {},
   "source": [
    "save to `.csv`"
   ]
  },
  {
   "cell_type": "code",
   "execution_count": null,
   "metadata": {
    "collapsed": true
   },
   "outputs": [],
   "source": [
    "appeals.to_csv('data/transformed/appeals.csv', index=False)"
   ]
  },
  {
   "cell_type": "code",
   "execution_count": 7,
   "metadata": {},
   "outputs": [
    {
     "data": {
      "text/html": [
       "<div>\n",
       "<style>\n",
       "    .dataframe thead tr:only-child th {\n",
       "        text-align: right;\n",
       "    }\n",
       "\n",
       "    .dataframe thead th {\n",
       "        text-align: left;\n",
       "    }\n",
       "\n",
       "    .dataframe tbody tr th {\n",
       "        vertical-align: top;\n",
       "    }\n",
       "</style>\n",
       "<table border=\"1\" class=\"dataframe\">\n",
       "  <thead>\n",
       "    <tr style=\"text-align: right;\">\n",
       "      <th></th>\n",
       "      <th>INN</th>\n",
       "      <th>APPEALS_QTY</th>\n",
       "    </tr>\n",
       "  </thead>\n",
       "  <tbody>\n",
       "    <tr>\n",
       "      <th>18028</th>\n",
       "      <td>6.129003e+11</td>\n",
       "      <td>1</td>\n",
       "    </tr>\n",
       "    <tr>\n",
       "      <th>8312</th>\n",
       "      <td>7.107109e+09</td>\n",
       "      <td>1</td>\n",
       "    </tr>\n",
       "    <tr>\n",
       "      <th>19257</th>\n",
       "      <td>7.204001e+11</td>\n",
       "      <td>1</td>\n",
       "    </tr>\n",
       "  </tbody>\n",
       "</table>\n",
       "</div>"
      ],
      "text/plain": [
       "                INN  APPEALS_QTY\n",
       "18028  6.129003e+11            1\n",
       "8312   7.107109e+09            1\n",
       "19257  7.204001e+11            1"
      ]
     },
     "execution_count": 7,
     "metadata": {},
     "output_type": "execute_result"
    }
   ],
   "source": [
    "pd.read_csv('data/transformed/appeals.csv').sample(3)"
   ]
  },
  {
   "cell_type": "markdown",
   "metadata": {},
   "source": [
    "### 1.3. SAS"
   ]
  },
  {
   "cell_type": "markdown",
   "metadata": {},
   "source": [
    "#### Net comission income"
   ]
  },
  {
   "cell_type": "markdown",
   "metadata": {},
   "source": [
    "NCI including Credit, Salary and Acquiring only"
   ]
  },
  {
   "cell_type": "code",
   "execution_count": null,
   "metadata": {
    "collapsed": true
   },
   "outputs": [],
   "source": [
    "ckd_df = pd.read_csv('data/WORK_FILTER_FOR_A1_01_STAT_DOHOD_MARG.csv', sep=';', decimal=b',', encoding='cp1251',\n",
    "                   dtype={'inn': object})\n",
    " \n",
    "key_products = ['Кредитование', 'Зарпл. проект', 'Эквайринг']\n",
    " \n",
    "ckd_df['ckd'] = ckd_df.loc[:, ckd_df.columns.values[2:]].sum(axis=1)\n",
    "ckd_df['key_products_ckd'] = ckd_df.loc[:, key_products].sum(axis=1)\n",
    " \n",
    "ckd_df.drop(ckd_df.columns.values[2:-2], axis=1, inplace=True)\n",
    "ckd_df.to_csv('data/ckd.csv', index=False)"
   ]
  },
  {
   "cell_type": "code",
   "execution_count": null,
   "metadata": {
    "collapsed": true
   },
   "outputs": [],
   "source": [
    "ckd = pd.read_csv('data/transformed/ckd.csv')"
   ]
  },
  {
   "cell_type": "code",
   "execution_count": null,
   "metadata": {
    "collapsed": true
   },
   "outputs": [],
   "source": [
    "ckd['inn'] = ckd['inn'].astype('str')\n",
    "ckd = ckd[ckd['inn'].str.contains('^\\d{10,}')]"
   ]
  },
  {
   "cell_type": "code",
   "execution_count": null,
   "metadata": {
    "collapsed": true
   },
   "outputs": [],
   "source": [
    "ckd = ckd.groupby(by='inn', as_index=False).agg({'ckd': 'sum',\n",
    "                                                 'key_products_ckd': 'sum'})\n",
    "ckd.rename(columns={'inn': 'INN',\n",
    "                    'key_products_ckd': 'CKD_KEY_PRODUCTS',\n",
    "                    'ckd': 'CKD'}, inplace=True)"
   ]
  },
  {
   "cell_type": "markdown",
   "metadata": {},
   "source": [
    "save to `.csv`"
   ]
  },
  {
   "cell_type": "code",
   "execution_count": null,
   "metadata": {
    "collapsed": true
   },
   "outputs": [],
   "source": [
    "ckd.to_csv('data/transformed/CKD.csv', index=False)"
   ]
  },
  {
   "cell_type": "code",
   "execution_count": 8,
   "metadata": {},
   "outputs": [
    {
     "data": {
      "text/html": [
       "<div>\n",
       "<style>\n",
       "    .dataframe thead tr:only-child th {\n",
       "        text-align: right;\n",
       "    }\n",
       "\n",
       "    .dataframe thead th {\n",
       "        text-align: left;\n",
       "    }\n",
       "\n",
       "    .dataframe tbody tr th {\n",
       "        vertical-align: top;\n",
       "    }\n",
       "</style>\n",
       "<table border=\"1\" class=\"dataframe\">\n",
       "  <thead>\n",
       "    <tr style=\"text-align: right;\">\n",
       "      <th></th>\n",
       "      <th>INN</th>\n",
       "      <th>CKD_KEY_PRODUCTS</th>\n",
       "      <th>CKD</th>\n",
       "    </tr>\n",
       "  </thead>\n",
       "  <tbody>\n",
       "    <tr>\n",
       "      <th>930183</th>\n",
       "      <td>461701944872</td>\n",
       "      <td>2770.57</td>\n",
       "      <td>29315.75</td>\n",
       "    </tr>\n",
       "    <tr>\n",
       "      <th>1143999</th>\n",
       "      <td>524000623288</td>\n",
       "      <td>9.00</td>\n",
       "      <td>438.03</td>\n",
       "    </tr>\n",
       "    <tr>\n",
       "      <th>855130</th>\n",
       "      <td>4205273221</td>\n",
       "      <td>0.00</td>\n",
       "      <td>8.89</td>\n",
       "    </tr>\n",
       "  </tbody>\n",
       "</table>\n",
       "</div>"
      ],
      "text/plain": [
       "                  INN  CKD_KEY_PRODUCTS       CKD\n",
       "930183   461701944872           2770.57  29315.75\n",
       "1143999  524000623288              9.00    438.03\n",
       "855130     4205273221              0.00      8.89"
      ]
     },
     "execution_count": 8,
     "metadata": {},
     "output_type": "execute_result"
    }
   ],
   "source": [
    "pd.read_csv('data/transformed/CKD.csv').sample(3)"
   ]
  },
  {
   "cell_type": "markdown",
   "metadata": {},
   "source": [
    "#### NCI for package only"
   ]
  },
  {
   "cell_type": "markdown",
   "metadata": {},
   "source": [
    "The NCI for package is expected to be the most important feature"
   ]
  },
  {
   "cell_type": "code",
   "execution_count": null,
   "metadata": {
    "collapsed": true
   },
   "outputs": [],
   "source": [
    "CKD_package = pd.read_csv('data/CKD_package.txt', sep='|', usecols=['INN', 'Sum(RubSum)'])\n",
    "\n",
    "CKD_package['Sum(RubSum)'] = CKD_package['Sum(RubSum)'].apply(comma_to_dot)\n",
    "CKD_package = CKD_package[CKD_package['INN'] != '?']\n",
    "CKD_package['INN'] = CKD_package['INN'].astype('int64')\n",
    "\n",
    "CKD_package = CKD_package.groupby(by='INN', as_index=False).agg({'Sum(RubSum)': ('sum', 'std', 'mean', 'count')})\n",
    "CKD_package.columns = ['INN', 'CKD_PACK_SUM', 'CKD_PACK_STD', 'CKD_PACK_MEAN', 'CKD_PACK_COUNT']"
   ]
  },
  {
   "cell_type": "markdown",
   "metadata": {},
   "source": [
    "A standard deviation for clients with only 1 payment equals to `NAN`. It's correct to fill them with zeros"
   ]
  },
  {
   "cell_type": "code",
   "execution_count": null,
   "metadata": {
    "collapsed": true
   },
   "outputs": [],
   "source": [
    "CKD_package.fillna(0, inplace=True)"
   ]
  },
  {
   "cell_type": "markdown",
   "metadata": {},
   "source": [
    "save to `.csv`"
   ]
  },
  {
   "cell_type": "code",
   "execution_count": null,
   "metadata": {
    "collapsed": true
   },
   "outputs": [],
   "source": [
    "CKD_package.to_csv('data/transformed/CKD_package.csv', index=False)"
   ]
  },
  {
   "cell_type": "code",
   "execution_count": 9,
   "metadata": {},
   "outputs": [
    {
     "data": {
      "text/html": [
       "<div>\n",
       "<style>\n",
       "    .dataframe thead tr:only-child th {\n",
       "        text-align: right;\n",
       "    }\n",
       "\n",
       "    .dataframe thead th {\n",
       "        text-align: left;\n",
       "    }\n",
       "\n",
       "    .dataframe tbody tr th {\n",
       "        vertical-align: top;\n",
       "    }\n",
       "</style>\n",
       "<table border=\"1\" class=\"dataframe\">\n",
       "  <thead>\n",
       "    <tr style=\"text-align: right;\">\n",
       "      <th></th>\n",
       "      <th>INN</th>\n",
       "      <th>CKD_PACK_SUM</th>\n",
       "      <th>CKD_PACK_STD</th>\n",
       "      <th>CKD_PACK_MEAN</th>\n",
       "      <th>CKD_PACK_COUNT</th>\n",
       "    </tr>\n",
       "  </thead>\n",
       "  <tbody>\n",
       "    <tr>\n",
       "      <th>5533</th>\n",
       "      <td>277913843</td>\n",
       "      <td>47260.0</td>\n",
       "      <td>1629.546241</td>\n",
       "      <td>3150.666667</td>\n",
       "      <td>15</td>\n",
       "    </tr>\n",
       "    <tr>\n",
       "      <th>493512</th>\n",
       "      <td>165920216770</td>\n",
       "      <td>30600.0</td>\n",
       "      <td>0.000000</td>\n",
       "      <td>1700.000000</td>\n",
       "      <td>18</td>\n",
       "    </tr>\n",
       "    <tr>\n",
       "      <th>500955</th>\n",
       "      <td>183500882744</td>\n",
       "      <td>1.0</td>\n",
       "      <td>0.000000</td>\n",
       "      <td>1.000000</td>\n",
       "      <td>1</td>\n",
       "    </tr>\n",
       "  </tbody>\n",
       "</table>\n",
       "</div>"
      ],
      "text/plain": [
       "                 INN  CKD_PACK_SUM  CKD_PACK_STD  CKD_PACK_MEAN  \\\n",
       "5533       277913843       47260.0   1629.546241    3150.666667   \n",
       "493512  165920216770       30600.0      0.000000    1700.000000   \n",
       "500955  183500882744           1.0      0.000000       1.000000   \n",
       "\n",
       "        CKD_PACK_COUNT  \n",
       "5533                15  \n",
       "493512              18  \n",
       "500955               1  "
      ]
     },
     "execution_count": 9,
     "metadata": {},
     "output_type": "execute_result"
    }
   ],
   "source": [
    "pd.read_csv('data/transformed/CKD_package.csv').sample(3)"
   ]
  },
  {
   "cell_type": "markdown",
   "metadata": {},
   "source": [
    "### 1.4. CLIENT_AGE"
   ]
  },
  {
   "cell_type": "code",
   "execution_count": null,
   "metadata": {
    "collapsed": true
   },
   "outputs": [],
   "source": [
    "org_age = pd.read_table('data/UPSALE_org_first_date.txt', dtype=object, sep='\\t')\n",
    "ip_age = pd.read_table('data/UPSALE_IP_first_date.txt', dtype=object, sep='\\t')"
   ]
  },
  {
   "cell_type": "code",
   "execution_count": null,
   "metadata": {
    "collapsed": true
   },
   "outputs": [],
   "source": [
    "client_age = pd.concat([org_age, ip_age])\n",
    "client_age.loc[client_age['REG_FIRST_DT'] == '31.12.9999', 'REG_FIRST_DT'] = np.nan\n",
    "client_age.dropna(inplace=True)\n",
    "\n",
    "client_age['REG_FIRST_DT'] = pd.to_datetime(client_age['REG_FIRST_DT'], format='%d.%m.%Y')\n",
    "client_age['REG_FIRST_DT'] = (pd.Timestamp('now') - client_age['REG_FIRST_DT']).dt.days"
   ]
  },
  {
   "cell_type": "code",
   "execution_count": null,
   "metadata": {
    "collapsed": true
   },
   "outputs": [],
   "source": [
    "client_age = client_age.groupby(by='inn', as_index=False).agg({'REG_FIRST_DT': 'first'})"
   ]
  },
  {
   "cell_type": "code",
   "execution_count": null,
   "metadata": {
    "collapsed": true
   },
   "outputs": [],
   "source": [
    "client_age['inn'] = client_age['inn'].astype('str')\n",
    "client_age = client_age[client_age['inn'].str.contains('^\\d{10,}')]"
   ]
  },
  {
   "cell_type": "code",
   "execution_count": null,
   "metadata": {
    "collapsed": true
   },
   "outputs": [],
   "source": [
    "client_age['inn'] = client_age['inn'].astype('int64')"
   ]
  },
  {
   "cell_type": "code",
   "execution_count": null,
   "metadata": {
    "collapsed": true
   },
   "outputs": [],
   "source": [
    "client_age.rename(columns={'inn': 'INN',\n",
    "                           'REG_FIRST_DT': 'CLIENT_AGE'}, inplace=True)"
   ]
  },
  {
   "cell_type": "markdown",
   "metadata": {},
   "source": [
    "save to `.csv`"
   ]
  },
  {
   "cell_type": "code",
   "execution_count": null,
   "metadata": {
    "collapsed": true
   },
   "outputs": [],
   "source": [
    "client_age.to_csv('data/transformed/client_age.csv', index=False)"
   ]
  },
  {
   "cell_type": "code",
   "execution_count": 10,
   "metadata": {},
   "outputs": [
    {
     "data": {
      "text/html": [
       "<div>\n",
       "<style>\n",
       "    .dataframe thead tr:only-child th {\n",
       "        text-align: right;\n",
       "    }\n",
       "\n",
       "    .dataframe thead th {\n",
       "        text-align: left;\n",
       "    }\n",
       "\n",
       "    .dataframe tbody tr th {\n",
       "        vertical-align: top;\n",
       "    }\n",
       "</style>\n",
       "<table border=\"1\" class=\"dataframe\">\n",
       "  <thead>\n",
       "    <tr style=\"text-align: right;\">\n",
       "      <th></th>\n",
       "      <th>INN</th>\n",
       "      <th>CLIENT_AGE</th>\n",
       "    </tr>\n",
       "  </thead>\n",
       "  <tbody>\n",
       "    <tr>\n",
       "      <th>3587293</th>\n",
       "      <td>230200423103</td>\n",
       "      <td>7969</td>\n",
       "    </tr>\n",
       "    <tr>\n",
       "      <th>10939279</th>\n",
       "      <td>519043820759</td>\n",
       "      <td>4334</td>\n",
       "    </tr>\n",
       "    <tr>\n",
       "      <th>2011577</th>\n",
       "      <td>163401211125</td>\n",
       "      <td>2587</td>\n",
       "    </tr>\n",
       "  </tbody>\n",
       "</table>\n",
       "</div>"
      ],
      "text/plain": [
       "                   INN  CLIENT_AGE\n",
       "3587293   230200423103        7969\n",
       "10939279  519043820759        4334\n",
       "2011577   163401211125        2587"
      ]
     },
     "execution_count": 10,
     "metadata": {},
     "output_type": "execute_result"
    }
   ],
   "source": [
    "pd.read_csv('data/transformed/client_age.csv').sample(3)"
   ]
  },
  {
   "cell_type": "markdown",
   "metadata": {},
   "source": [
    "#### 1.5. MERGE"
   ]
  },
  {
   "cell_type": "markdown",
   "metadata": {},
   "source": [
    "For convinience all datasets are merged to `df`"
   ]
  },
  {
   "cell_type": "code",
   "execution_count": 11,
   "metadata": {
    "collapsed": true
   },
   "outputs": [],
   "source": [
    "main_vitr = pd.read_csv('data/transformed/main_vitr.csv')\n",
    "cooperation = pd.read_csv('data/transformed/cooperation.csv')\n",
    "atb_ko = pd.read_csv('data/transformed/atb_ko.csv')\n",
    "CF = pd.read_csv('data/transformed/CF.csv')\n",
    "appeals = pd.read_csv('data/transformed/appeals.csv')\n",
    "ckd = pd.read_csv('data/transformed/CKD.csv')\n",
    "client_age = pd.read_csv('data/transformed/client_age.csv')\n",
    "CKD_package = pd.read_csv('data/transformed/CKD_package.csv')"
   ]
  },
  {
   "cell_type": "code",
   "execution_count": 12,
   "metadata": {
    "collapsed": true
   },
   "outputs": [],
   "source": [
    "df = pd.merge(main_vitr, atb_ko.drop('INN', axis=1), on='ACC')\n",
    "df = pd.merge(df, cooperation, on='INN')\n",
    "df = pd.merge(df, CF, on='INN')\n",
    "df = pd.merge(df, appeals, on='INN', how='left') # left merge\n",
    "df['APPEALS_QTY'].fillna(0, inplace=True)        # fill with zeros for clients without appeals\n",
    "df = pd.merge(df, ckd, on='INN')\n",
    "df = pd.merge(df, client_age, on='INN')\n",
    "df = pd.merge(df, CKD_package, on='INN')"
   ]
  },
  {
   "cell_type": "markdown",
   "metadata": {},
   "source": [
    "save to `.csv`"
   ]
  },
  {
   "cell_type": "code",
   "execution_count": null,
   "metadata": {
    "collapsed": true
   },
   "outputs": [],
   "source": [
    "df.to_csv('data/transformed/df.csv', index=False)"
   ]
  },
  {
   "cell_type": "code",
   "execution_count": 13,
   "metadata": {},
   "outputs": [
    {
     "data": {
      "text/html": [
       "<div>\n",
       "<style>\n",
       "    .dataframe thead tr:only-child th {\n",
       "        text-align: right;\n",
       "    }\n",
       "\n",
       "    .dataframe thead th {\n",
       "        text-align: left;\n",
       "    }\n",
       "\n",
       "    .dataframe tbody tr th {\n",
       "        vertical-align: top;\n",
       "    }\n",
       "</style>\n",
       "<table border=\"1\" class=\"dataframe\">\n",
       "  <thead>\n",
       "    <tr style=\"text-align: right;\">\n",
       "      <th></th>\n",
       "      <th>INN</th>\n",
       "      <th>ACC</th>\n",
       "      <th>LAST_PACKAGE</th>\n",
       "      <th>PACK_QTY</th>\n",
       "      <th>TB</th>\n",
       "      <th>GOSB</th>\n",
       "      <th>ACC_AGE</th>\n",
       "      <th>SUM_PAYIN_VSP</th>\n",
       "      <th>COUNT_PAYIN_VSP</th>\n",
       "      <th>SUM_PAYOUT_VSP</th>\n",
       "      <th>COUNT_PAYOUT_VSP</th>\n",
       "      <th>SUM_PAYOUT_UKO</th>\n",
       "      <th>COUNT_PAYOUT_UKO</th>\n",
       "      <th>SUM_PAYIN_UKO</th>\n",
       "      <th>COUNT_PAYIN_UKO</th>\n",
       "      <th>OBOROT_KREDIT</th>\n",
       "      <th>ZARPLAT_PROJECTS</th>\n",
       "      <th>OVERDRAFT_KREDIT</th>\n",
       "      <th>ACQUIRING_MOBILE</th>\n",
       "      <th>PRODUCT_QTY</th>\n",
       "      <th>OTHER_SUM_ISHOD_SELF</th>\n",
       "      <th>SBER_QTY_ISHOD_SELF</th>\n",
       "      <th>SBER_SUM_ISHOD</th>\n",
       "      <th>OTHER_QTY_ISHOD_SELF</th>\n",
       "      <th>OTHER_SUM_ISHOD</th>\n",
       "      <th>SBER_SUM_ISHOD_SELF</th>\n",
       "      <th>SBER_QTY_ISHOD</th>\n",
       "      <th>OTHER_QTY_ISHOD</th>\n",
       "      <th>APPEALS_QTY</th>\n",
       "      <th>CKD_KEY_PRODUCTS</th>\n",
       "      <th>CKD</th>\n",
       "      <th>CLIENT_AGE</th>\n",
       "      <th>CKD_PACK_SUM</th>\n",
       "      <th>CKD_PACK_STD</th>\n",
       "      <th>CKD_PACK_MEAN</th>\n",
       "      <th>CKD_PACK_COUNT</th>\n",
       "    </tr>\n",
       "  </thead>\n",
       "  <tbody>\n",
       "    <tr>\n",
       "      <th>16255</th>\n",
       "      <td>3233008858</td>\n",
       "      <td>40702810608000106189</td>\n",
       "      <td>АКТИВНЫЕ РАСЧЕТЫ</td>\n",
       "      <td>1</td>\n",
       "      <td>Среднерусский банк</td>\n",
       "      <td>8605.0</td>\n",
       "      <td>5802</td>\n",
       "      <td>0.0</td>\n",
       "      <td>0</td>\n",
       "      <td>0.0</td>\n",
       "      <td>0</td>\n",
       "      <td>328100.0</td>\n",
       "      <td>81</td>\n",
       "      <td>0.0</td>\n",
       "      <td>0</td>\n",
       "      <td>0</td>\n",
       "      <td>1</td>\n",
       "      <td>0</td>\n",
       "      <td>0</td>\n",
       "      <td>9</td>\n",
       "      <td>0.0</td>\n",
       "      <td>15</td>\n",
       "      <td>1.086968e+08</td>\n",
       "      <td>0</td>\n",
       "      <td>0.0</td>\n",
       "      <td>62002400.0</td>\n",
       "      <td>832</td>\n",
       "      <td>0</td>\n",
       "      <td>0.0</td>\n",
       "      <td>118570.94</td>\n",
       "      <td>692959.39</td>\n",
       "      <td>7236</td>\n",
       "      <td>113910.0</td>\n",
       "      <td>1545.434453</td>\n",
       "      <td>6328.333333</td>\n",
       "      <td>18</td>\n",
       "    </tr>\n",
       "    <tr>\n",
       "      <th>4730</th>\n",
       "      <td>222700152120</td>\n",
       "      <td>40802810502000014906</td>\n",
       "      <td>ХОРОШАЯ ВЫРУЧКА</td>\n",
       "      <td>1</td>\n",
       "      <td>Сибирский банк</td>\n",
       "      <td>8644.0</td>\n",
       "      <td>101</td>\n",
       "      <td>0.0</td>\n",
       "      <td>0</td>\n",
       "      <td>0.0</td>\n",
       "      <td>0</td>\n",
       "      <td>0.0</td>\n",
       "      <td>0</td>\n",
       "      <td>1342150.0</td>\n",
       "      <td>15</td>\n",
       "      <td>0</td>\n",
       "      <td>0</td>\n",
       "      <td>0</td>\n",
       "      <td>0</td>\n",
       "      <td>1</td>\n",
       "      <td>0.0</td>\n",
       "      <td>0</td>\n",
       "      <td>3.223346e+06</td>\n",
       "      <td>0</td>\n",
       "      <td>0.0</td>\n",
       "      <td>0.0</td>\n",
       "      <td>35</td>\n",
       "      <td>0</td>\n",
       "      <td>0.0</td>\n",
       "      <td>121519.19</td>\n",
       "      <td>138208.96</td>\n",
       "      <td>8638</td>\n",
       "      <td>2987.0</td>\n",
       "      <td>266.500000</td>\n",
       "      <td>746.750000</td>\n",
       "      <td>4</td>\n",
       "    </tr>\n",
       "    <tr>\n",
       "      <th>20343</th>\n",
       "      <td>3702187161</td>\n",
       "      <td>40702810917000009280</td>\n",
       "      <td>АКТИВНЫЕ РАСЧЕТЫ</td>\n",
       "      <td>2</td>\n",
       "      <td>Среднерусский банк</td>\n",
       "      <td>8639.0</td>\n",
       "      <td>402</td>\n",
       "      <td>0.0</td>\n",
       "      <td>0</td>\n",
       "      <td>0.0</td>\n",
       "      <td>0</td>\n",
       "      <td>337500.0</td>\n",
       "      <td>8</td>\n",
       "      <td>80000.0</td>\n",
       "      <td>1</td>\n",
       "      <td>0</td>\n",
       "      <td>0</td>\n",
       "      <td>0</td>\n",
       "      <td>0</td>\n",
       "      <td>3</td>\n",
       "      <td>0.0</td>\n",
       "      <td>0</td>\n",
       "      <td>1.103176e+07</td>\n",
       "      <td>0</td>\n",
       "      <td>0.0</td>\n",
       "      <td>0.0</td>\n",
       "      <td>402</td>\n",
       "      <td>0</td>\n",
       "      <td>0.0</td>\n",
       "      <td>0.00</td>\n",
       "      <td>59606.76</td>\n",
       "      <td>411</td>\n",
       "      <td>41510.0</td>\n",
       "      <td>421.328167</td>\n",
       "      <td>3459.166667</td>\n",
       "      <td>12</td>\n",
       "    </tr>\n",
       "  </tbody>\n",
       "</table>\n",
       "</div>"
      ],
      "text/plain": [
       "                INN                   ACC      LAST_PACKAGE  PACK_QTY  \\\n",
       "16255    3233008858  40702810608000106189  АКТИВНЫЕ РАСЧЕТЫ         1   \n",
       "4730   222700152120  40802810502000014906   ХОРОШАЯ ВЫРУЧКА         1   \n",
       "20343    3702187161  40702810917000009280  АКТИВНЫЕ РАСЧЕТЫ         2   \n",
       "\n",
       "                       TB    GOSB  ACC_AGE  SUM_PAYIN_VSP  COUNT_PAYIN_VSP  \\\n",
       "16255  Среднерусский банк  8605.0     5802            0.0                0   \n",
       "4730       Сибирский банк  8644.0      101            0.0                0   \n",
       "20343  Среднерусский банк  8639.0      402            0.0                0   \n",
       "\n",
       "       SUM_PAYOUT_VSP  COUNT_PAYOUT_VSP  SUM_PAYOUT_UKO  COUNT_PAYOUT_UKO  \\\n",
       "16255             0.0                 0        328100.0                81   \n",
       "4730              0.0                 0             0.0                 0   \n",
       "20343             0.0                 0        337500.0                 8   \n",
       "\n",
       "       SUM_PAYIN_UKO  COUNT_PAYIN_UKO  OBOROT_KREDIT  ZARPLAT_PROJECTS  \\\n",
       "16255            0.0                0              0                 1   \n",
       "4730       1342150.0               15              0                 0   \n",
       "20343        80000.0                1              0                 0   \n",
       "\n",
       "       OVERDRAFT_KREDIT  ACQUIRING_MOBILE  PRODUCT_QTY  OTHER_SUM_ISHOD_SELF  \\\n",
       "16255                 0                 0            9                   0.0   \n",
       "4730                  0                 0            1                   0.0   \n",
       "20343                 0                 0            3                   0.0   \n",
       "\n",
       "       SBER_QTY_ISHOD_SELF  SBER_SUM_ISHOD  OTHER_QTY_ISHOD_SELF  \\\n",
       "16255                   15    1.086968e+08                     0   \n",
       "4730                     0    3.223346e+06                     0   \n",
       "20343                    0    1.103176e+07                     0   \n",
       "\n",
       "       OTHER_SUM_ISHOD  SBER_SUM_ISHOD_SELF  SBER_QTY_ISHOD  OTHER_QTY_ISHOD  \\\n",
       "16255              0.0           62002400.0             832                0   \n",
       "4730               0.0                  0.0              35                0   \n",
       "20343              0.0                  0.0             402                0   \n",
       "\n",
       "       APPEALS_QTY  CKD_KEY_PRODUCTS        CKD  CLIENT_AGE  CKD_PACK_SUM  \\\n",
       "16255          0.0         118570.94  692959.39        7236      113910.0   \n",
       "4730           0.0         121519.19  138208.96        8638        2987.0   \n",
       "20343          0.0              0.00   59606.76         411       41510.0   \n",
       "\n",
       "       CKD_PACK_STD  CKD_PACK_MEAN  CKD_PACK_COUNT  \n",
       "16255   1545.434453    6328.333333              18  \n",
       "4730     266.500000     746.750000               4  \n",
       "20343    421.328167    3459.166667              12  "
      ]
     },
     "execution_count": 13,
     "metadata": {},
     "output_type": "execute_result"
    }
   ],
   "source": [
    "pd.read_csv('data/transformed/df.csv').sample(3)"
   ]
  },
  {
   "cell_type": "code",
   "execution_count": 14,
   "metadata": {},
   "outputs": [
    {
     "data": {
      "text/plain": [
       "(58672, 36)"
      ]
     },
     "execution_count": 14,
     "metadata": {},
     "output_type": "execute_result"
    }
   ],
   "source": [
    "df.shape"
   ]
  },
  {
   "cell_type": "markdown",
   "metadata": {},
   "source": [
    "## Data preprocessing and Machine Learning"
   ]
  },
  {
   "cell_type": "markdown",
   "metadata": {},
   "source": [
    "Distribution of packages"
   ]
  },
  {
   "cell_type": "code",
   "execution_count": 15,
   "metadata": {},
   "outputs": [
    {
     "data": {
      "image/png": "[encoded data removed]",
      "text/plain": [
       "<matplotlib.figure.Figure at 0x7f57fcd2e588>"
      ]
     },
     "metadata": {},
     "output_type": "display_data"
    }
   ],
   "source": [
    "plt.figure(figsize=(12, 5))\n",
    "sns.countplot(df['LAST_PACKAGE']);"
   ]
  },
  {
   "cell_type": "markdown",
   "metadata": {
    "collapsed": true
   },
   "source": [
    "The both training and validation sets must contain only 4 paid packages, so as to Sberbank interested in only predicting paid packages. Here we split data on test set called `left_out` with free package `ЛЕГКИЙ СТАРТ` and remaining dataset `df`, consisting of remaining packages. At the same time df is split on training (`X_train, y_train`) and validation (`X_test, y_test`) sets respectively."
   ]
  },
  {
   "cell_type": "code",
   "execution_count": 16,
   "metadata": {
    "collapsed": true
   },
   "outputs": [],
   "source": [
    "left_out = df[df['LAST_PACKAGE'] == 'ЛЕГКИЙ СТАРТ']\n",
    "df = df[df['LAST_PACKAGE'] != 'ЛЕГКИЙ СТАРТ']"
   ]
  },
  {
   "cell_type": "code",
   "execution_count": 17,
   "metadata": {},
   "outputs": [],
   "source": [
    "df.drop('GOSB', axis=1, inplace=True)\n",
    "df = df[df['TB'] != 'Центральный аппарат']"
   ]
  },
  {
   "cell_type": "code",
   "execution_count": 18,
   "metadata": {},
   "outputs": [
    {
     "data": {
      "image/png": "[encoded data removed]",
      "text/plain": [
       "<matplotlib.figure.Figure at 0x7f57e0eddb70>"
      ]
     },
     "metadata": {},
     "output_type": "display_data"
    }
   ],
   "source": [
    "plt.figure(figsize=(8, 8))\n",
    "sns.heatmap(df.corr());"
   ]
  },
  {
   "cell_type": "markdown",
   "metadata": {},
   "source": [
    "The following features should be ommited due to high correlation"
   ]
  },
  {
   "cell_type": "code",
   "execution_count": 19,
   "metadata": {
    "collapsed": true
   },
   "outputs": [],
   "source": [
    "df.drop(['SBER_SUM_ISHOD_SELF', 'CKD_KEY_PRODUCTS'], axis=1, inplace=True)"
   ]
  },
  {
   "cell_type": "markdown",
   "metadata": {},
   "source": [
    "Unlike `R`, the features with type `object` should be transformed even for tree-based methods"
   ]
  },
  {
   "cell_type": "code",
   "execution_count": 24,
   "metadata": {
    "collapsed": true
   },
   "outputs": [],
   "source": [
    "encoder_TB = LabelEncoder()\n",
    "encoder_TB.fit(df['TB'])\n",
    "df['TB'] = encoder_TB.transform(df['TB'])\n",
    "\n",
    "encoder_package = LabelEncoder()\n",
    "encoder_package.fit(df['LAST_PACKAGE'])\n",
    "df['LAST_PACKAGE'] = encoder_package.transform(df['LAST_PACKAGE'])"
   ]
  },
  {
   "cell_type": "code",
   "execution_count": 25,
   "metadata": {
    "collapsed": true
   },
   "outputs": [],
   "source": [
    "X = df.loc[:, ~df.columns.isin(['LAST_PACKAGE', 'INN', 'ACC'])]\n",
    "y = df['LAST_PACKAGE']"
   ]
  },
  {
   "cell_type": "markdown",
   "metadata": {},
   "source": [
    "Split dataset on training and validation sets, stratifying on packages"
   ]
  },
  {
   "cell_type": "code",
   "execution_count": 26,
   "metadata": {
    "collapsed": true
   },
   "outputs": [],
   "source": [
    "X_train, X_test, y_train, y_test = train_test_split(X, y, test_size=0.2, stratify=y, random_state=19)"
   ]
  },
  {
   "cell_type": "markdown",
   "metadata": {},
   "source": [
    "Baseline equals to 0.53"
   ]
  },
  {
   "cell_type": "code",
   "execution_count": 27,
   "metadata": {},
   "outputs": [
    {
     "data": {
      "text/plain": [
       "0.52892654107680304"
      ]
     },
     "execution_count": 27,
     "metadata": {},
     "output_type": "execute_result"
    }
   ],
   "source": [
    "y_test.value_counts().max()/y_test.value_counts().sum()"
   ]
  },
  {
   "cell_type": "markdown",
   "metadata": {},
   "source": [
    "A class distribution on the validation set"
   ]
  },
  {
   "cell_type": "code",
   "execution_count": 23,
   "metadata": {},
   "outputs": [
    {
     "data": {
      "image/png": "[encoded data removed]",
      "text/plain": [
       "<matplotlib.figure.Figure at 0x7f57e7833208>"
      ]
     },
     "metadata": {},
     "output_type": "display_data"
    }
   ],
   "source": [
    "plt.figure(figsize=(12, 5))\n",
    "sns.countplot(y_test);"
   ]
  },
  {
   "cell_type": "markdown",
   "metadata": {
    "collapsed": true
   },
   "source": [
    "Hereinafter, all models will be accompanied with 3 type of plots:\n",
    "    1. Validation curve (determines training and test scores for varying parameter values)\n",
    "    2. Learning curve (determines training and test scores for different training set sizes. It helps to determine whether addditional samples imporve accuracy or not)\n",
    "    3. Feature importances (determines the most important features)"
   ]
  },
  {
   "cell_type": "code",
   "execution_count": 28,
   "metadata": {
    "collapsed": true
   },
   "outputs": [],
   "source": [
    "def plot_learning_curve(estimator, X, y, cv=5, train_sizes=np.linspace(.1, 1, 5), title=None, ylim=None, n_jobs=1):\n",
    "    plt.figure()\n",
    "    plt.title(title)\n",
    "    \n",
    "    if ylim is not None:\n",
    "        plt.ylim(*ylim) # correct scale\n",
    "        \n",
    "    plt.xlabel('Training examples')\n",
    "    plt.ylabel('Score')\n",
    "    \n",
    "    train_sizes, train_scores, test_scores = learning_curve(estimator, X, y, cv=cv, n_jobs=n_jobs,\n",
    "                                                            train_sizes=train_sizes)\n",
    "    train_scores_mean = np.mean(train_scores, axis=1)\n",
    "    train_scores_std = np.std(train_scores, axis=1)\n",
    "    test_scores_mean = np.mean(test_scores, axis=1)\n",
    "    test_scores_std = np.std(test_scores, axis=1)\n",
    "    plt.grid(b=True)\n",
    "    \n",
    "    plt.fill_between(train_sizes, train_scores_mean - train_scores_std, train_scores_mean + train_scores_std,\n",
    "                     alpha=0.1, color='red')\n",
    "    plt.fill_between(train_sizes, test_scores_mean - test_scores_std, test_scores_mean + test_scores_std,\n",
    "                     alpha=0.1, color='green')\n",
    "    plt.plot(train_sizes, train_scores_mean, 'x-', color='red', label='Training score')\n",
    "    plt.plot(train_sizes, test_scores_mean, 'x-', color='green', label='Cross-validation score')\n",
    "    plt.legend(loc='best')"
   ]
  },
  {
   "cell_type": "code",
   "execution_count": 40,
   "metadata": {},
   "outputs": [],
   "source": [
    "def plot_validation_curve(estimator, X, y, param_name, param_range, scoring, cv=5, title=None, ylim=None, xlim=None, n_jobs=1):\n",
    "    plt.figure()\n",
    "    plt.title(title)\n",
    "    \n",
    "    if ylim is not None:\n",
    "        plt.ylim(*ylim) # correct scale\n",
    "        \n",
    "    plt.xlabel(param_name)\n",
    "    plt.ylabel('Score')\n",
    "    \n",
    "    train_scores, test_scores = validation_curve(estimator, X, y, param_name=param_name,param_range=param_range,\n",
    "                                                 cv=cv, scoring=scoring, n_jobs=n_jobs)\n",
    "    train_scores_mean = np.mean(train_scores, axis=1)\n",
    "    train_scores_std = np.std(train_scores, axis=1)\n",
    "    test_scores_mean = np.mean(test_scores, axis=1)\n",
    "    test_scores_std = np.std(test_scores, axis=1)\n",
    "    plt.grid(b=True)\n",
    "    \n",
    "    plt.fill_between(param_range, train_scores_mean - train_scores_std, train_scores_mean + train_scores_std,\n",
    "                     alpha=0.1, color='red')\n",
    "    plt.fill_between(param_range, test_scores_mean - test_scores_std, test_scores_mean + test_scores_std,\n",
    "                     alpha=0.1, color='green')\n",
    "    plt.plot(param_range, train_scores_mean, 'x-', color='red', label='Training score')\n",
    "    plt.plot(param_range, test_scores_mean, 'x-', color='green', label='Cross-validation score')\n",
    "    \n",
    "    plt.legend(loc='best')"
   ]
  },
  {
   "cell_type": "code",
   "execution_count": 30,
   "metadata": {
    "collapsed": true
   },
   "outputs": [],
   "source": [
    "def plot_feature_importances(model):\n",
    "    importances = model.feature_importances_\n",
    "    indices = np.arange(len(X_train.columns))\n",
    "\n",
    "    sorted_importances = pd.DataFrame({'importances': importances,\n",
    "                                       'feature': X_train.columns}).sort_values('importances')\n",
    "\n",
    "    plt.figure(figsize=(10, 10))\n",
    "    plt.barh(indices, sorted_importances['importances'], color='g')\n",
    "    plt.yticks(indices, sorted_importances['feature'])\n",
    "    plt.ylabel('Features')\n",
    "    plt.xlabel('Importances');\n",
    "    plt.title('Feature importances');"
   ]
  },
  {
   "cell_type": "markdown",
   "metadata": {},
   "source": [
    "### Tree"
   ]
  },
  {
   "cell_type": "code",
   "execution_count": 31,
   "metadata": {},
   "outputs": [
    {
     "name": "stdout",
     "output_type": "stream",
     "text": [
      "train 1.0\n",
      "test 0.866792999666\n",
      "max_depth 31\n"
     ]
    }
   ],
   "source": [
    "tree = DecisionTreeClassifier(max_depth=None, class_weight='balanced')\n",
    "tree.fit(X_train, y_train)\n",
    "tree_pred_train = tree.predict(X_train)\n",
    "tree_pred_test = tree.predict(X_test)\n",
    "print('train', accuracy_score(y_train, tree_pred_train))\n",
    "print('test', accuracy_score(y_test, tree_pred_test))\n",
    "print('max_depth', tree.tree_.max_depth)"
   ]
  },
  {
   "cell_type": "code",
   "execution_count": 32,
   "metadata": {},
   "outputs": [
    {
     "data": {
      "image/png": "[encoded data removed]",
      "text/plain": [
       "<matplotlib.figure.Figure at 0x7f57e0edd240>"
      ]
     },
     "metadata": {},
     "output_type": "display_data"
    }
   ],
   "source": [
    "plot_learning_curve(tree, X, y, n_jobs=2, title='Tree Learning Curve')"
   ]
  },
  {
   "cell_type": "code",
   "execution_count": 41,
   "metadata": {},
   "outputs": [
    {
     "data": {
      "image/png": "[encoded data removed]",
      "text/plain": [
       "<matplotlib.figure.Figure at 0x7f57e2c2a630>"
      ]
     },
     "metadata": {},
     "output_type": "display_data"
    }
   ],
   "source": [
    "plot_validation_curve(tree, X, y, 'max_depth', np.arange(10, 50, 5), 'f1_weighted', cv=3, n_jobs=50,\n",
    "                      title='Tree Validation curve')"
   ]
  },
  {
   "cell_type": "markdown",
   "metadata": {},
   "source": [
    "### Random Forest"
   ]
  },
  {
   "cell_type": "code",
   "execution_count": 42,
   "metadata": {},
   "outputs": [
    {
     "name": "stdout",
     "output_type": "stream",
     "text": [
      "train 1.0\n",
      "test 0.891093523576\n",
      "test 0.890321614379\n"
     ]
    }
   ],
   "source": [
    "rf = RandomForestClassifier(n_estimators=2000, max_depth=None, class_weight='balanced', n_jobs=50)\n",
    "rf.fit(X_train, y_train)\n",
    "rf_pred_train = rf.predict(X_train)\n",
    "rf_pred_test = rf.predict(X_test)\n",
    "print('train', accuracy_score(y_train, rf_pred_train))\n",
    "print('test', accuracy_score(y_test, rf_pred_test))\n",
    "print('test', f1_score(y_test, rf_pred_test, average='weighted'))\n",
    "#print('depth of each tree', [estimator.tree_.max_depth for estimator in rf.estimators_])"
   ]
  },
  {
   "cell_type": "code",
   "execution_count": 36,
   "metadata": {},
   "outputs": [
    {
     "data": {
      "image/png": "[encoded data removed]",
      "text/plain": [
       "<matplotlib.figure.Figure at 0x7f57e7819e10>"
      ]
     },
     "metadata": {},
     "output_type": "display_data"
    }
   ],
   "source": [
    "plot_learning_curve(rf, X, y, n_jobs=50, title='Random Forest Learning curve')"
   ]
  },
  {
   "cell_type": "code",
   "execution_count": 44,
   "metadata": {},
   "outputs": [
    {
     "data": {
      "image/png": "[encoded data removed]",
      "text/plain": [
       "<matplotlib.figure.Figure at 0x7f57e2cd74e0>"
      ]
     },
     "metadata": {},
     "output_type": "display_data"
    }
   ],
   "source": [
    "plot_validation_curve(rf, X, y, 'max_depth', np.arange(10, 50, 5), 'f1_weighted', cv=5, n_jobs=50,\n",
    "                      title='Random Forest Validation curve')"
   ]
  },
  {
   "cell_type": "code",
   "execution_count": 45,
   "metadata": {},
   "outputs": [
    {
     "data": {
      "image/png": "[encoded data removed]",
      "text/plain": [
       "<matplotlib.figure.Figure at 0x7f57e2c286d8>"
      ]
     },
     "metadata": {},
     "output_type": "display_data"
    }
   ],
   "source": [
    "plot_validation_curve(rf, X, y, 'n_estimators', np.arange(500, 5000, 500), 'f1_weighted', cv=3, n_jobs=50,\n",
    "                      title='Random Forest Validation curve')"
   ]
  },
  {
   "cell_type": "code",
   "execution_count": 46,
   "metadata": {},
   "outputs": [
    {
     "data": {
      "image/png": "[encoded data removed]",
      "text/plain": [
       "<matplotlib.figure.Figure at 0x7f57e79deda0>"
      ]
     },
     "metadata": {},
     "output_type": "display_data"
    }
   ],
   "source": [
    "plot_feature_importances(rf)"
   ]
  },
  {
   "cell_type": "code",
   "execution_count": 48,
   "metadata": {},
   "outputs": [
    {
     "data": {
      "image/png": "[encoded data removed]",
      "text/plain": [
       "<matplotlib.figure.Figure at 0x7f57e2c467b8>"
      ]
     },
     "metadata": {},
     "output_type": "display_data"
    }
   ],
   "source": [
    "labs = [2,3,0,1] #conduct order\n",
    "sns.heatmap(confusion_matrix(y_test, rf_pred_test, labels=labs), annot=True, fmt='d',\n",
    "            yticklabels=encoder_package.inverse_transform(labs), xticklabels=encoder_package.inverse_transform(labs));"
   ]
  },
  {
   "cell_type": "markdown",
   "metadata": {},
   "source": [
    "### Gradient Boosting"
   ]
  },
  {
   "cell_type": "code",
   "execution_count": 49,
   "metadata": {},
   "outputs": [
    {
     "name": "stdout",
     "output_type": "stream",
     "text": [
      "train 0.998467155319\n",
      "test 0.919852859213\n",
      "test 0.919740497062\n"
     ]
    }
   ],
   "source": [
    "gb = GradientBoostingClassifier(n_estimators=3000, learning_rate=0.1, max_depth=3)\n",
    "gb.fit(X_train, y_train)\n",
    "gb_pred_train = gb.predict(X_train)\n",
    "gb_pred_test = gb.predict(X_test)\n",
    "print('train', accuracy_score(y_train, gb_pred_train))\n",
    "print('test', accuracy_score(y_test, gb_pred_test))\n",
    "print('test', f1_score(y_test, gb_pred_test, average='weighted'))\n",
    "gb_pred_test_proba = gb.predict_proba(X_test)\n",
    "#print('depth of each tree', [estimator.tree_.max_depth for estimator in rf.estimators_])"
   ]
  },
  {
   "cell_type": "code",
   "execution_count": 66,
   "metadata": {},
   "outputs": [
    {
     "data": {
      "image/png": "[encoded data removed]",
      "text/plain": [
       "<matplotlib.figure.Figure at 0x7f57e27b91d0>"
      ]
     },
     "metadata": {},
     "output_type": "display_data"
    }
   ],
   "source": [
    "plot_validation_curve(gb, X, y, 'n_estimators', np.arange(500, 3000, 500), 'accuracy', cv=5, n_jobs=50,\n",
    "                      title='learning rate 0.1')"
   ]
  },
  {
   "cell_type": "code",
   "execution_count": 51,
   "metadata": {},
   "outputs": [
    {
     "data": {
      "image/png": "[encoded data removed]",
      "text/plain": [
       "<matplotlib.figure.Figure at 0x7f57e2bb9a58>"
      ]
     },
     "metadata": {},
     "output_type": "display_data"
    }
   ],
   "source": [
    "plot_feature_importances(gb)"
   ]
  },
  {
   "cell_type": "code",
   "execution_count": 50,
   "metadata": {},
   "outputs": [
    {
     "data": {
      "text/plain": [
       "<matplotlib.axes._subplots.AxesSubplot at 0x7f57e28acc50>"
      ]
     },
     "execution_count": 50,
     "metadata": {},
     "output_type": "execute_result"
    },
    {
     "data": {
      "image/png": "[encoded data removed]",
      "text/plain": [
       "<matplotlib.figure.Figure at 0x7f57e79cbbe0>"
      ]
     },
     "metadata": {},
     "output_type": "display_data"
    }
   ],
   "source": [
    "plt.figure(figsize=(7,7))\n",
    "labs = [2,3,0,1]\n",
    "sns.heatmap(confusion_matrix(y_test, gb_pred_test, labels=labs), annot=True, fmt='d', yticklabels=encoder_package.inverse_transform(labs), xticklabels=encoder_package.inverse_transform(labs)) "
   ]
  },
  {
   "cell_type": "markdown",
   "metadata": {},
   "source": [
    "### KNN"
   ]
  },
  {
   "cell_type": "markdown",
   "metadata": {},
   "source": [
    "For implenementation minkowski metric with parameter `p=2`, the categorical feature `TB` should be deleted from dataframe "
   ]
  },
  {
   "cell_type": "code",
   "execution_count": 52,
   "metadata": {
    "collapsed": true
   },
   "outputs": [],
   "source": [
    "continuous_df = df.drop('TB', axis=1)\n",
    "continuous_X = continuous_df.loc[:, ~continuous_df.columns.isin(['LAST_PACKAGE', 'INN', 'ACC'])]\n",
    "continuous_y = continuous_df['LAST_PACKAGE']"
   ]
  },
  {
   "cell_type": "markdown",
   "metadata": {},
   "source": [
    "Continuous variables should be scaled to `mean=0` and `variance=1`"
   ]
  },
  {
   "cell_type": "code",
   "execution_count": 53,
   "metadata": {},
   "outputs": [],
   "source": [
    "scaler = StandardScaler()\n",
    "scaled_X = pd.DataFrame(scaler.fit_transform(continuous_X))\n",
    "scaled_y = continuous_y.reset_index(drop=True)\n",
    "\n",
    "scaled_df = pd.concat([scaled_X, scaled_y], axis=1)"
   ]
  },
  {
   "cell_type": "code",
   "execution_count": 55,
   "metadata": {
    "collapsed": true
   },
   "outputs": [],
   "source": [
    "scaled_X_train, scaled_X_test, scaled_y_train, scaled_y_test = train_test_split(scaled_X, scaled_y, test_size=0.2,\n",
    "                                                                                stratify=scaled_y, random_state=17)"
   ]
  },
  {
   "cell_type": "code",
   "execution_count": 56,
   "metadata": {},
   "outputs": [
    {
     "name": "stdout",
     "output_type": "stream",
     "text": [
      "train 0.708815250411\n",
      "test 0.692341990859\n"
     ]
    }
   ],
   "source": [
    "knn = KNeighborsClassifier(n_neighbors=50, p=2)\n",
    "knn.fit(scaled_X_train, scaled_y_train)\n",
    "knn_pred_train = knn.predict(scaled_X_train)\n",
    "knn_pred_test = knn.predict(scaled_X_test)\n",
    "print('train', accuracy_score(scaled_y_train, knn_pred_train))\n",
    "print('test', accuracy_score(scaled_y_test, knn_pred_test))"
   ]
  },
  {
   "cell_type": "code",
   "execution_count": 65,
   "metadata": {},
   "outputs": [
    {
     "data": {
      "image/png": "[encoded data removed]",
      "text/plain": [
       "<matplotlib.figure.Figure at 0x7f57e2799400>"
      ]
     },
     "metadata": {},
     "output_type": "display_data"
    }
   ],
   "source": [
    "plot_validation_curve(knn, continuous_X, continuous_y, 'n_neighbors', np.arange(5, 50, 5), 'accuracy', cv=5, n_jobs=50)"
   ]
  },
  {
   "cell_type": "markdown",
   "metadata": {},
   "source": [
    "### Left_out"
   ]
  },
  {
   "cell_type": "markdown",
   "metadata": {},
   "source": [
    "The best model in terms of accuracy is Gradient Boosting. Now predict probabilities and the most likely package on the test (`left_out`) set."
   ]
  },
  {
   "cell_type": "code",
   "execution_count": 57,
   "metadata": {
    "collapsed": true
   },
   "outputs": [],
   "source": [
    "left_out.drop('GOSB', axis=1, inplace=True)\n",
    "left_out = left_out[left_out['TB'] != 'Центральный аппарат']\n",
    "left_out.drop(['SBER_SUM_ISHOD_SELF', 'CKD_KEY_PRODUCTS'], axis=1, inplace=True)\n",
    "\n",
    "left_out['TB'] = encoder_TB.transform(left_out['TB'])\n",
    "left_out_X = left_out.loc[:, ~left_out.columns.isin(['LAST_PACKAGE', 'INN', 'ACC'])]"
   ]
  },
  {
   "cell_type": "code",
   "execution_count": 58,
   "metadata": {
    "collapsed": true
   },
   "outputs": [],
   "source": [
    "predicted_package = gb.predict(left_out_X)\n",
    "predicted_package_proba = gb.predict_proba(left_out_X)\n",
    "\n",
    "predicted_package = pd.Series(predicted_package, index=left_out_X.index, name='PREDICTED_PACKAGE')\n",
    "predicted_package_proba = pd.Series(np.max(predicted_package_proba, axis=1), index=left_out_X.index,\n",
    "                                    name='PROBABILITY_PACKAGE')"
   ]
  },
  {
   "cell_type": "code",
   "execution_count": 59,
   "metadata": {
    "collapsed": true
   },
   "outputs": [],
   "source": [
    "package = pd.concat([left_out, predicted_package, predicted_package_proba], axis=1)"
   ]
  },
  {
   "cell_type": "code",
   "execution_count": 60,
   "metadata": {
    "collapsed": true
   },
   "outputs": [],
   "source": [
    "package['TB'] = encoder_TB.inverse_transform(package['TB'])\n",
    "package['PREDICTED_PACKAGE'] = encoder_package.inverse_transform(package['PREDICTED_PACKAGE'])"
   ]
  },
  {
   "cell_type": "code",
   "execution_count": 64,
   "metadata": {},
   "outputs": [
    {
     "data": {
      "text/html": [
       "<div>\n",
       "<style>\n",
       "    .dataframe thead tr:only-child th {\n",
       "        text-align: right;\n",
       "    }\n",
       "\n",
       "    .dataframe thead th {\n",
       "        text-align: left;\n",
       "    }\n",
       "\n",
       "    .dataframe tbody tr th {\n",
       "        vertical-align: top;\n",
       "    }\n",
       "</style>\n",
       "<table border=\"1\" class=\"dataframe\">\n",
       "  <thead>\n",
       "    <tr style=\"text-align: right;\">\n",
       "      <th></th>\n",
       "      <th>INN</th>\n",
       "      <th>ACC</th>\n",
       "      <th>LAST_PACKAGE</th>\n",
       "      <th>PACK_QTY</th>\n",
       "      <th>TB</th>\n",
       "      <th>ACC_AGE</th>\n",
       "      <th>SUM_PAYIN_VSP</th>\n",
       "      <th>COUNT_PAYIN_VSP</th>\n",
       "      <th>SUM_PAYOUT_VSP</th>\n",
       "      <th>COUNT_PAYOUT_VSP</th>\n",
       "      <th>SUM_PAYOUT_UKO</th>\n",
       "      <th>COUNT_PAYOUT_UKO</th>\n",
       "      <th>SUM_PAYIN_UKO</th>\n",
       "      <th>COUNT_PAYIN_UKO</th>\n",
       "      <th>OBOROT_KREDIT</th>\n",
       "      <th>ZARPLAT_PROJECTS</th>\n",
       "      <th>OVERDRAFT_KREDIT</th>\n",
       "      <th>ACQUIRING_MOBILE</th>\n",
       "      <th>PRODUCT_QTY</th>\n",
       "      <th>OTHER_SUM_ISHOD_SELF</th>\n",
       "      <th>SBER_QTY_ISHOD_SELF</th>\n",
       "      <th>SBER_SUM_ISHOD</th>\n",
       "      <th>OTHER_QTY_ISHOD_SELF</th>\n",
       "      <th>OTHER_SUM_ISHOD</th>\n",
       "      <th>SBER_QTY_ISHOD</th>\n",
       "      <th>OTHER_QTY_ISHOD</th>\n",
       "      <th>APPEALS_QTY</th>\n",
       "      <th>CKD</th>\n",
       "      <th>CLIENT_AGE</th>\n",
       "      <th>CKD_PACK_SUM</th>\n",
       "      <th>CKD_PACK_STD</th>\n",
       "      <th>CKD_PACK_MEAN</th>\n",
       "      <th>CKD_PACK_COUNT</th>\n",
       "      <th>PREDICTED_PACKAGE</th>\n",
       "      <th>PROBABILITY_PACKAGE</th>\n",
       "    </tr>\n",
       "  </thead>\n",
       "  <tbody>\n",
       "    <tr>\n",
       "      <th>36893</th>\n",
       "      <td>6012007570</td>\n",
       "      <td>40702810851140000973</td>\n",
       "      <td>ЛЕГКИЙ СТАРТ</td>\n",
       "      <td>1</td>\n",
       "      <td>Северо-Западный банк</td>\n",
       "      <td>3170</td>\n",
       "      <td>0.0</td>\n",
       "      <td>0</td>\n",
       "      <td>0.0</td>\n",
       "      <td>0</td>\n",
       "      <td>0.0</td>\n",
       "      <td>0</td>\n",
       "      <td>73100.0</td>\n",
       "      <td>8</td>\n",
       "      <td>0</td>\n",
       "      <td>0</td>\n",
       "      <td>0</td>\n",
       "      <td>0</td>\n",
       "      <td>3</td>\n",
       "      <td>0.0</td>\n",
       "      <td>0</td>\n",
       "      <td>6750.00</td>\n",
       "      <td>0</td>\n",
       "      <td>0.00</td>\n",
       "      <td>3</td>\n",
       "      <td>0</td>\n",
       "      <td>0.0</td>\n",
       "      <td>16536.78</td>\n",
       "      <td>3177</td>\n",
       "      <td>17280.0</td>\n",
       "      <td>0.000000</td>\n",
       "      <td>8640.0</td>\n",
       "      <td>2</td>\n",
       "      <td>БОЛЬШИЕ ВОЗМОЖНОСТИ</td>\n",
       "      <td>0.999964</td>\n",
       "    </tr>\n",
       "    <tr>\n",
       "      <th>26998</th>\n",
       "      <td>4825092842</td>\n",
       "      <td>40702810335000006100</td>\n",
       "      <td>ЛЕГКИЙ СТАРТ</td>\n",
       "      <td>1</td>\n",
       "      <td>Центрально-Черноземный банк</td>\n",
       "      <td>332</td>\n",
       "      <td>0.0</td>\n",
       "      <td>0</td>\n",
       "      <td>0.0</td>\n",
       "      <td>0</td>\n",
       "      <td>0.0</td>\n",
       "      <td>0</td>\n",
       "      <td>206000.0</td>\n",
       "      <td>12</td>\n",
       "      <td>0</td>\n",
       "      <td>0</td>\n",
       "      <td>0</td>\n",
       "      <td>0</td>\n",
       "      <td>2</td>\n",
       "      <td>0.0</td>\n",
       "      <td>0</td>\n",
       "      <td>344849.63</td>\n",
       "      <td>0</td>\n",
       "      <td>205018.63</td>\n",
       "      <td>25</td>\n",
       "      <td>7</td>\n",
       "      <td>0.0</td>\n",
       "      <td>8637.68</td>\n",
       "      <td>2120</td>\n",
       "      <td>7203.0</td>\n",
       "      <td>961.605948</td>\n",
       "      <td>1029.0</td>\n",
       "      <td>7</td>\n",
       "      <td>ХОРОШАЯ ВЫРУЧКА</td>\n",
       "      <td>0.838315</td>\n",
       "    </tr>\n",
       "    <tr>\n",
       "      <th>21496</th>\n",
       "      <td>3812130023</td>\n",
       "      <td>40702810118350025910</td>\n",
       "      <td>ЛЕГКИЙ СТАРТ</td>\n",
       "      <td>1</td>\n",
       "      <td>Байкальский банк</td>\n",
       "      <td>2324</td>\n",
       "      <td>4978000.0</td>\n",
       "      <td>71</td>\n",
       "      <td>0.0</td>\n",
       "      <td>0</td>\n",
       "      <td>0.0</td>\n",
       "      <td>0</td>\n",
       "      <td>18157100.0</td>\n",
       "      <td>522</td>\n",
       "      <td>0</td>\n",
       "      <td>0</td>\n",
       "      <td>0</td>\n",
       "      <td>0</td>\n",
       "      <td>4</td>\n",
       "      <td>0.0</td>\n",
       "      <td>237</td>\n",
       "      <td>34729000.00</td>\n",
       "      <td>0</td>\n",
       "      <td>20534301.60</td>\n",
       "      <td>237</td>\n",
       "      <td>711</td>\n",
       "      <td>0.0</td>\n",
       "      <td>158244.58</td>\n",
       "      <td>2955</td>\n",
       "      <td>17100.0</td>\n",
       "      <td>0.000000</td>\n",
       "      <td>1900.0</td>\n",
       "      <td>9</td>\n",
       "      <td>ХОРОШАЯ ВЫРУЧКА</td>\n",
       "      <td>0.993086</td>\n",
       "    </tr>\n",
       "  </tbody>\n",
       "</table>\n",
       "</div>"
      ],
      "text/plain": [
       "              INN                   ACC  LAST_PACKAGE  PACK_QTY  \\\n",
       "36893  6012007570  40702810851140000973  ЛЕГКИЙ СТАРТ         1   \n",
       "26998  4825092842  40702810335000006100  ЛЕГКИЙ СТАРТ         1   \n",
       "21496  3812130023  40702810118350025910  ЛЕГКИЙ СТАРТ         1   \n",
       "\n",
       "                                TB  ACC_AGE  SUM_PAYIN_VSP  COUNT_PAYIN_VSP  \\\n",
       "36893         Северо-Западный банк     3170            0.0                0   \n",
       "26998  Центрально-Черноземный банк      332            0.0                0   \n",
       "21496             Байкальский банк     2324      4978000.0               71   \n",
       "\n",
       "       SUM_PAYOUT_VSP  COUNT_PAYOUT_VSP  SUM_PAYOUT_UKO  COUNT_PAYOUT_UKO  \\\n",
       "36893             0.0                 0             0.0                 0   \n",
       "26998             0.0                 0             0.0                 0   \n",
       "21496             0.0                 0             0.0                 0   \n",
       "\n",
       "       SUM_PAYIN_UKO  COUNT_PAYIN_UKO  OBOROT_KREDIT  ZARPLAT_PROJECTS  \\\n",
       "36893        73100.0                8              0                 0   \n",
       "26998       206000.0               12              0                 0   \n",
       "21496     18157100.0              522              0                 0   \n",
       "\n",
       "       OVERDRAFT_KREDIT  ACQUIRING_MOBILE  PRODUCT_QTY  OTHER_SUM_ISHOD_SELF  \\\n",
       "36893                 0                 0            3                   0.0   \n",
       "26998                 0                 0            2                   0.0   \n",
       "21496                 0                 0            4                   0.0   \n",
       "\n",
       "       SBER_QTY_ISHOD_SELF  SBER_SUM_ISHOD  OTHER_QTY_ISHOD_SELF  \\\n",
       "36893                    0         6750.00                     0   \n",
       "26998                    0       344849.63                     0   \n",
       "21496                  237     34729000.00                     0   \n",
       "\n",
       "       OTHER_SUM_ISHOD  SBER_QTY_ISHOD  OTHER_QTY_ISHOD  APPEALS_QTY  \\\n",
       "36893             0.00               3                0          0.0   \n",
       "26998        205018.63              25                7          0.0   \n",
       "21496      20534301.60             237              711          0.0   \n",
       "\n",
       "             CKD  CLIENT_AGE  CKD_PACK_SUM  CKD_PACK_STD  CKD_PACK_MEAN  \\\n",
       "36893   16536.78        3177       17280.0      0.000000         8640.0   \n",
       "26998    8637.68        2120        7203.0    961.605948         1029.0   \n",
       "21496  158244.58        2955       17100.0      0.000000         1900.0   \n",
       "\n",
       "       CKD_PACK_COUNT    PREDICTED_PACKAGE  PROBABILITY_PACKAGE  \n",
       "36893               2  БОЛЬШИЕ ВОЗМОЖНОСТИ             0.999964  \n",
       "26998               7      ХОРОШАЯ ВЫРУЧКА             0.838315  \n",
       "21496               9      ХОРОШАЯ ВЫРУЧКА             0.993086  "
      ]
     },
     "execution_count": 64,
     "metadata": {},
     "output_type": "execute_result"
    }
   ],
   "source": [
    "package.sample(3)"
   ]
  },
  {
   "cell_type": "code",
   "execution_count": 61,
   "metadata": {},
   "outputs": [
    {
     "data": {
      "image/png": "[encoded data removed]",
      "text/plain": [
       "<matplotlib.figure.Figure at 0x7f57e272d7f0>"
      ]
     },
     "metadata": {},
     "output_type": "display_data"
    }
   ],
   "source": [
    "plt.figure(figsize=(9, 9))\n",
    "sns.countplot(package['PREDICTED_PACKAGE'], palette='muted');"
   ]
  }
 ],
 "metadata": {
  "kernelspec": {
   "display_name": "Python 3.5.3 (ZNO41714840)",
   "language": "python",
   "name": "python35_zno41714840"
  },
  "language_info": {
   "codemirror_mode": {
    "name": "ipython",
    "version": 3
   },
   "file_extension": ".py",
   "mimetype": "text/x-python",
   "name": "python",
   "nbconvert_exporter": "python",
   "pygments_lexer": "ipython3",
   "version": "3.5.3"
  }
 },
 "nbformat": 4,
 "nbformat_minor": 2
}
